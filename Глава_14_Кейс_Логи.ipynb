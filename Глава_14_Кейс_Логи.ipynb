{
  "nbformat": 4,
  "nbformat_minor": 0,
  "metadata": {
    "colab": {
      "provenance": [],
      "collapsed_sections": [
        "5bdLXu2ksLB7",
        "QLNMvvhXoIdV"
      ],
      "include_colab_link": true
    },
    "kernelspec": {
      "name": "python3",
      "display_name": "Python 3"
    },
    "language_info": {
      "name": "python"
    }
  },
  "cells": [
    {
      "cell_type": "markdown",
      "metadata": {
        "id": "view-in-github",
        "colab_type": "text"
      },
      "source": [
        "<a href=\"https://colab.research.google.com/github/apalibaeva/simulative-python-base/blob/main/%D0%93%D0%BB%D0%B0%D0%B2%D0%B0_14_%D0%9A%D0%B5%D0%B9%D1%81_%D0%9B%D0%BE%D0%B3%D0%B8.ipynb\" target=\"_parent\"><img src=\"https://colab.research.google.com/assets/colab-badge.svg\" alt=\"Open In Colab\"/></a>"
      ]
    },
    {
      "cell_type": "markdown",
      "source": [
        "## **1 кейс**\n",
        "\n",
        "**Работа с логами**"
      ],
      "metadata": {
        "id": "XUqCUBW5fUST"
      }
    },
    {
      "cell_type": "markdown",
      "source": [
        "**Важно**\n",
        "\n",
        "Перед началом решения выполните следующую ячейку, чтобы загрузить необходимый для работы файл."
      ],
      "metadata": {
        "id": "OcK9kF9mfZIt"
      }
    },
    {
      "cell_type": "code",
      "execution_count": 2,
      "metadata": {
        "id": "KtNBw8nOfPsB",
        "outputId": "0c417db9-6dd2-4005-87ad-d73b04840c29",
        "colab": {
          "base_uri": "https://localhost:8080/"
        }
      },
      "outputs": [
        {
          "output_type": "stream",
          "name": "stdout",
          "text": [
            "--2024-10-29 11:22:03--  https://gist.github.com/Vs8th/38d5d914171c84166728a9746d212bad/raw/auto_purchase.log\n",
            "Resolving gist.github.com (gist.github.com)... 140.82.113.3\n",
            "Connecting to gist.github.com (gist.github.com)|140.82.113.3|:443... connected.\n",
            "HTTP request sent, awaiting response... 301 Moved Permanently\n",
            "Location: https://gist.githubusercontent.com/Vs8th/38d5d914171c84166728a9746d212bad/raw/auto_purchase.log [following]\n",
            "--2024-10-29 11:22:04--  https://gist.githubusercontent.com/Vs8th/38d5d914171c84166728a9746d212bad/raw/auto_purchase.log\n",
            "Resolving gist.githubusercontent.com (gist.githubusercontent.com)... 185.199.110.133, 185.199.108.133, 185.199.109.133, ...\n",
            "Connecting to gist.githubusercontent.com (gist.githubusercontent.com)|185.199.110.133|:443... connected.\n",
            "HTTP request sent, awaiting response... 200 OK\n",
            "Length: 459418 (449K) [text/plain]\n",
            "Saving to: ‘auto_purchase.log’\n",
            "\n",
            "auto_purchase.log   100%[===================>] 448.65K  --.-KB/s    in 0.04s   \n",
            "\n",
            "2024-10-29 11:22:04 (12.4 MB/s) - ‘auto_purchase.log’ saved [459418/459418]\n",
            "\n"
          ]
        }
      ],
      "source": [
        "!wget https://gist.github.com/Vs8th/38d5d914171c84166728a9746d212bad/raw/auto_purchase.log"
      ]
    },
    {
      "cell_type": "markdown",
      "source": [
        "Чтобы посмотреть как он выглядит выполните следующую ячейку."
      ],
      "metadata": {
        "id": "JIwIK2E5fcyA"
      }
    },
    {
      "cell_type": "code",
      "source": [
        "with open('auto_purchase.log', 'r') as f:\n",
        "    lines = f.readlines()\n",
        "for line in lines[400:550]:\n",
        "    print(line)"
      ],
      "metadata": {
        "id": "6f84pObFfbGE",
        "colab": {
          "base_uri": "https://localhost:8080/"
        },
        "collapsed": true,
        "outputId": "88148465-4663-4690-a71c-4280913a540e"
      },
      "execution_count": 4,
      "outputs": [
        {
          "output_type": "stream",
          "name": "stdout",
          "text": [
            "INFO  | 2022-11-26 00:01:03,024  | file: demon_auto_purchase_bundle.py |  line: 54 | [demon] Cегодня 2022-11-26, количество людей с автопродлением подписки: 0\n",
            "\n",
            "INFO  | 2022-11-26 00:01:03,027  | file: demon_auto_purchase_bundle.py |  line: 57 | [demon] Выход из программы\n",
            "\n",
            "INFO  | 2022-11-27 00:01:02,455  | file: demon_auto_purchase_bundle.py |  line: 44 | [demon] Поверяем истекающие премиум-пакеты\n",
            "\n",
            "INFO  | 2022-11-27 00:01:02,480  | file: demon_auto_purchase_bundle.py |  line: 54 | [demon] Cегодня 2022-11-27, количество людей с автопродлением подписки: 0\n",
            "\n",
            "INFO  | 2022-11-27 00:01:02,483  | file: demon_auto_purchase_bundle.py |  line: 57 | [demon] Выход из программы\n",
            "\n",
            "INFO  | 2022-11-28 00:01:02,406  | file: demon_auto_purchase_bundle.py |  line: 44 | [demon] Поверяем истекающие премиум-пакеты\n",
            "\n",
            "INFO  | 2022-11-28 00:01:02,424  | file: demon_auto_purchase_bundle.py |  line: 54 | [demon] Cегодня 2022-11-28, количество людей с автопродлением подписки: 0\n",
            "\n",
            "INFO  | 2022-11-28 00:01:02,427  | file: demon_auto_purchase_bundle.py |  line: 57 | [demon] Выход из программы\n",
            "\n",
            "INFO  | 2022-11-29 00:01:02,372  | file: demon_auto_purchase_bundle.py |  line: 44 | [demon] Поверяем истекающие премиум-пакеты\n",
            "\n",
            "INFO  | 2022-11-29 00:01:02,395  | file: demon_auto_purchase_bundle.py |  line: 54 | [demon] Cегодня 2022-11-29, количество людей с автопродлением подписки: 2\n",
            "\n",
            "INFO  | 2022-11-29 00:01:02,399  | file: demon_auto_purchase_bundle.py |  line: 61 | [demon] Обновляем подписку пользователю id: 5014, payment_method_id: 2af064ab\n",
            "\n",
            "INFO  | 2022-11-29 00:01:04,386  | file: demon_auto_purchase_bundle.py |  line: 61 | [demon] Обновляем подписку пользователю id: 5019, payment_method_id: 2af0ffe6\n",
            "\n",
            "INFO  | 2022-11-30 00:01:02,216  | file: demon_auto_purchase_bundle.py |  line: 44 | [demon] Поверяем истекающие премиум-пакеты\n",
            "\n",
            "INFO  | 2022-11-30 00:01:02,245  | file: demon_auto_purchase_bundle.py |  line: 54 | [demon] Cегодня 2022-11-30, количество людей с автопродлением подписки: 0\n",
            "\n",
            "INFO  | 2022-11-30 00:01:02,251  | file: demon_auto_purchase_bundle.py |  line: 57 | [demon] Выход из программы\n",
            "\n",
            "INFO  | 2022-12-01 00:01:02,654  | file: demon_auto_purchase_bundle.py |  line: 44 | [demon] Поверяем истекающие премиум-пакеты\n",
            "\n",
            "INFO  | 2022-12-01 00:01:02,683  | file: demon_auto_purchase_bundle.py |  line: 54 | [demon] Cегодня 2022-12-01, количество людей с автопродлением подписки: 0\n",
            "\n",
            "INFO  | 2022-12-01 00:01:02,687  | file: demon_auto_purchase_bundle.py |  line: 57 | [demon] Выход из программы\n",
            "\n",
            "INFO  | 2022-12-02 00:01:02,458  | file: demon_auto_purchase_bundle.py |  line: 44 | [demon] Поверяем истекающие премиум-пакеты\n",
            "\n",
            "INFO  | 2022-12-02 00:01:02,480  | file: demon_auto_purchase_bundle.py |  line: 54 | [demon] Cегодня 2022-12-02, количество людей с автопродлением подписки: 0\n",
            "\n",
            "INFO  | 2022-12-02 00:01:02,482  | file: demon_auto_purchase_bundle.py |  line: 57 | [demon] Выход из программы\n",
            "\n",
            "INFO  | 2022-12-03 00:01:02,645  | file: demon_auto_purchase_bundle.py |  line: 44 | [demon] Поверяем истекающие премиум-пакеты\n",
            "\n",
            "INFO  | 2022-12-03 00:01:02,659  | file: demon_auto_purchase_bundle.py |  line: 54 | [demon] Cегодня 2022-12-03, количество людей с автопродлением подписки: 0\n",
            "\n",
            "INFO  | 2022-12-03 00:01:02,661  | file: demon_auto_purchase_bundle.py |  line: 57 | [demon] Выход из программы\n",
            "\n",
            "INFO  | 2022-12-04 00:01:02,509  | file: demon_auto_purchase_bundle.py |  line: 44 | [demon] Поверяем истекающие премиум-пакеты\n",
            "\n",
            "INFO  | 2022-12-04 00:01:02,533  | file: demon_auto_purchase_bundle.py |  line: 54 | [demon] Cегодня 2022-12-04, количество людей с автопродлением подписки: 0\n",
            "\n",
            "INFO  | 2022-12-04 00:01:02,535  | file: demon_auto_purchase_bundle.py |  line: 57 | [demon] Выход из программы\n",
            "\n",
            "INFO  | 2022-12-05 00:01:02,995  | file: demon_auto_purchase_bundle.py |  line: 44 | [demon] Поверяем истекающие премиум-пакеты\n",
            "\n",
            "INFO  | 2022-12-05 00:01:03,021  | file: demon_auto_purchase_bundle.py |  line: 54 | [demon] Cегодня 2022-12-05, количество людей с автопродлением подписки: 1\n",
            "\n",
            "INFO  | 2022-12-05 00:01:03,024  | file: demon_auto_purchase_bundle.py |  line: 61 | [demon] Обновляем подписку пользователю id: 5076, payment_method_id: 2af8be86\n",
            "\n",
            "INFO  | 2022-12-06 00:01:02,724  | file: demon_auto_purchase_bundle.py |  line: 44 | [demon] Поверяем истекающие премиум-пакеты\n",
            "\n",
            "INFO  | 2022-12-06 00:01:02,763  | file: demon_auto_purchase_bundle.py |  line: 54 | [demon] Cегодня 2022-12-06, количество людей с автопродлением подписки: 3\n",
            "\n",
            "INFO  | 2022-12-06 00:01:02,767  | file: demon_auto_purchase_bundle.py |  line: 61 | [demon] Обновляем подписку пользователю id: 4387, payment_method_id: 2aaa946b\n",
            "\n",
            "INFO  | 2022-12-06 00:01:05,220  | file: demon_auto_purchase_bundle.py |  line: 61 | [demon] Обновляем подписку пользователю id: 4583, payment_method_id: 2afa1a9c\n",
            "\n",
            "INFO  | 2022-12-06 00:01:07,320  | file: demon_auto_purchase_bundle.py |  line: 61 | [demon] Обновляем подписку пользователю id: 5104, payment_method_id: 2afa1bef\n",
            "\n",
            "INFO  | 2022-12-07 00:01:02,603  | file: demon_auto_purchase_bundle.py |  line: 44 | [demon] Поверяем истекающие премиум-пакеты\n",
            "\n",
            "INFO  | 2022-12-07 00:01:02,626  | file: demon_auto_purchase_bundle.py |  line: 54 | [demon] Cегодня 2022-12-07, количество людей с автопродлением подписки: 0\n",
            "\n",
            "INFO  | 2022-12-07 00:01:02,628  | file: demon_auto_purchase_bundle.py |  line: 57 | [demon] Выход из программы\n",
            "\n",
            "INFO  | 2022-12-08 00:01:02,487  | file: demon_auto_purchase_bundle.py |  line: 44 | [demon] Поверяем истекающие премиум-пакеты\n",
            "\n",
            "INFO  | 2022-12-08 00:01:02,510  | file: demon_auto_purchase_bundle.py |  line: 54 | [demon] Cегодня 2022-12-08, количество людей с автопродлением подписки: 0\n",
            "\n",
            "INFO  | 2022-12-08 00:01:02,513  | file: demon_auto_purchase_bundle.py |  line: 57 | [demon] Выход из программы\n",
            "\n",
            "INFO  | 2022-12-09 00:01:02,143  | file: demon_auto_purchase_bundle.py |  line: 44 | [demon] Поверяем истекающие премиум-пакеты\n",
            "\n",
            "INFO  | 2022-12-09 00:01:02,167  | file: demon_auto_purchase_bundle.py |  line: 54 | [demon] Cегодня 2022-12-09, количество людей с автопродлением подписки: 0\n",
            "\n",
            "INFO  | 2022-12-09 00:01:02,171  | file: demon_auto_purchase_bundle.py |  line: 57 | [demon] Выход из программы\n",
            "\n",
            "INFO  | 2022-12-10 00:01:02,575  | file: demon_auto_purchase_bundle.py |  line: 44 | [demon] Поверяем истекающие премиум-пакеты\n",
            "\n",
            "INFO  | 2022-12-10 00:01:02,592  | file: demon_auto_purchase_bundle.py |  line: 54 | [demon] Cегодня 2022-12-10, количество людей с автопродлением подписки: 1\n",
            "\n",
            "INFO  | 2022-12-10 00:01:02,594  | file: demon_auto_purchase_bundle.py |  line: 61 | [demon] Обновляем подписку пользователю id: 4622, payment_method_id: 2aff33d2\n",
            "\n",
            "INFO  | 2022-12-11 00:01:02,264  | file: demon_auto_purchase_bundle.py |  line: 44 | [demon] Поверяем истекающие премиум-пакеты\n",
            "\n",
            "INFO  | 2022-12-11 00:01:02,284  | file: demon_auto_purchase_bundle.py |  line: 54 | [demon] Cегодня 2022-12-11, количество людей с автопродлением подписки: 2\n",
            "\n",
            "INFO  | 2022-12-11 00:01:02,286  | file: demon_auto_purchase_bundle.py |  line: 61 | [demon] Обновляем подписку пользователю id: 5153, payment_method_id: 2b009964\n",
            "\n",
            "INFO  | 2022-12-11 00:01:06,662  | file: demon_auto_purchase_bundle.py |  line: 61 | [demon] Обновляем подписку пользователю id: 5158, payment_method_id: 2b00a987\n",
            "\n",
            "INFO  | 2022-12-12 00:01:02,932  | file: demon_auto_purchase_bundle.py |  line: 44 | [demon] Поверяем истекающие премиум-пакеты\n",
            "\n",
            "INFO  | 2022-12-12 00:01:02,953  | file: demon_auto_purchase_bundle.py |  line: 54 | [demon] Cегодня 2022-12-12, количество людей с автопродлением подписки: 0\n",
            "\n",
            "INFO  | 2022-12-12 00:01:02,957  | file: demon_auto_purchase_bundle.py |  line: 57 | [demon] Выход из программы\n",
            "\n",
            "INFO  | 2022-12-13 00:01:02,859  | file: demon_auto_purchase_bundle.py |  line: 44 | [demon] Поверяем истекающие премиум-пакеты\n",
            "\n",
            "INFO  | 2022-12-13 00:01:02,884  | file: demon_auto_purchase_bundle.py |  line: 54 | [demon] Cегодня 2022-12-13, количество людей с автопродлением подписки: 0\n",
            "\n",
            "INFO  | 2022-12-13 00:01:02,888  | file: demon_auto_purchase_bundle.py |  line: 57 | [demon] Выход из программы\n",
            "\n",
            "INFO  | 2022-12-14 00:01:02,794  | file: demon_auto_purchase_bundle.py |  line: 44 | [demon] Поверяем истекающие премиум-пакеты\n",
            "\n",
            "INFO  | 2022-12-14 00:01:02,818  | file: demon_auto_purchase_bundle.py |  line: 54 | [demon] Cегодня 2022-12-14, количество людей с автопродлением подписки: 0\n",
            "\n",
            "INFO  | 2022-12-14 00:01:02,820  | file: demon_auto_purchase_bundle.py |  line: 57 | [demon] Выход из программы\n",
            "\n",
            "INFO  | 2022-12-15 00:01:02,862  | file: demon_auto_purchase_bundle.py |  line: 44 | [demon] Поверяем истекающие премиум-пакеты\n",
            "\n",
            "INFO  | 2022-12-15 00:01:02,881  | file: demon_auto_purchase_bundle.py |  line: 54 | [demon] Cегодня 2022-12-15, количество людей с автопродлением подписки: 3\n",
            "\n",
            "INFO  | 2022-12-15 00:01:02,884  | file: demon_auto_purchase_bundle.py |  line: 61 | [demon] Обновляем подписку пользователю id: 4555, payment_method_id: 2ab63d9c\n",
            "\n",
            "INFO  | 2022-12-15 00:01:07,322  | file: demon_auto_purchase_bundle.py |  line: 61 | [demon] Обновляем подписку пользователю id: 2900, payment_method_id: 2b05aa45\n",
            "\n",
            "INFO  | 2022-12-15 00:01:09,427  | file: demon_auto_purchase_bundle.py |  line: 61 | [demon] Обновляем подписку пользователю id: 5193, payment_method_id: 2b05ede0\n",
            "\n",
            "INFO  | 2022-12-16 00:01:02,284  | file: demon_auto_purchase_bundle.py |  line: 44 | [demon] Поверяем истекающие премиум-пакеты\n",
            "\n",
            "INFO  | 2022-12-16 00:01:02,308  | file: demon_auto_purchase_bundle.py |  line: 54 | [demon] Cегодня 2022-12-16, количество людей с автопродлением подписки: 0\n",
            "\n",
            "INFO  | 2022-12-16 00:01:02,313  | file: demon_auto_purchase_bundle.py |  line: 57 | [demon] Выход из программы\n",
            "\n",
            "INFO  | 2022-12-17 00:01:02,348  | file: demon_auto_purchase_bundle.py |  line: 44 | [demon] Поверяем истекающие премиум-пакеты\n",
            "\n",
            "INFO  | 2022-12-17 00:01:02,368  | file: demon_auto_purchase_bundle.py |  line: 54 | [demon] Cегодня 2022-12-17, количество людей с автопродлением подписки: 2\n",
            "\n",
            "INFO  | 2022-12-17 00:01:02,370  | file: demon_auto_purchase_bundle.py |  line: 61 | [demon] Обновляем подписку пользователю id: 5212, payment_method_id: 2b08a54b\n",
            "\n",
            "INFO  | 2022-12-17 00:01:06,812  | file: demon_auto_purchase_bundle.py |  line: 61 | [demon] Обновляем подписку пользователю id: 4906, payment_method_id: 2b08be29\n",
            "\n",
            "INFO  | 2022-12-18 00:01:03,022  | file: demon_auto_purchase_bundle.py |  line: 44 | [demon] Поверяем истекающие премиум-пакеты\n",
            "\n",
            "INFO  | 2022-12-18 00:01:03,051  | file: demon_auto_purchase_bundle.py |  line: 54 | [demon] Cегодня 2022-12-18, количество людей с автопродлением подписки: 0\n",
            "\n",
            "INFO  | 2022-12-18 00:01:03,054  | file: demon_auto_purchase_bundle.py |  line: 57 | [demon] Выход из программы\n",
            "\n",
            "INFO  | 2022-12-19 00:01:02,688  | file: demon_auto_purchase_bundle.py |  line: 44 | [demon] Поверяем истекающие премиум-пакеты\n",
            "\n",
            "INFO  | 2022-12-19 00:01:02,710  | file: demon_auto_purchase_bundle.py |  line: 54 | [demon] Cегодня 2022-12-19, количество людей с автопродлением подписки: 0\n",
            "\n",
            "INFO  | 2022-12-19 00:01:02,713  | file: demon_auto_purchase_bundle.py |  line: 57 | [demon] Выход из программы\n",
            "\n",
            "INFO  | 2022-12-20 00:01:02,644  | file: demon_auto_purchase_bundle.py |  line: 44 | [demon] Поверяем истекающие премиум-пакеты\n",
            "\n",
            "INFO  | 2022-12-20 00:01:02,670  | file: demon_auto_purchase_bundle.py |  line: 54 | [demon] Cегодня 2022-12-20, количество людей с автопродлением подписки: 0\n",
            "\n",
            "INFO  | 2022-12-20 00:01:02,672  | file: demon_auto_purchase_bundle.py |  line: 57 | [demon] Выход из программы\n",
            "\n",
            "INFO  | 2022-12-21 00:01:02,703  | file: demon_auto_purchase_bundle.py |  line: 44 | [demon] Поверяем истекающие премиум-пакеты\n",
            "\n",
            "INFO  | 2022-12-21 00:01:02,731  | file: demon_auto_purchase_bundle.py |  line: 54 | [demon] Cегодня 2022-12-21, количество людей с автопродлением подписки: 0\n",
            "\n",
            "INFO  | 2022-12-21 00:01:02,734  | file: demon_auto_purchase_bundle.py |  line: 57 | [demon] Выход из программы\n",
            "\n",
            "INFO  | 2022-12-22 00:01:02,588  | file: demon_auto_purchase_bundle.py |  line: 44 | [demon] Поверяем истекающие премиум-пакеты\n",
            "\n",
            "INFO  | 2022-12-22 00:01:02,608  | file: demon_auto_purchase_bundle.py |  line: 54 | [demon] Cегодня 2022-12-22, количество людей с автопродлением подписки: 0\n",
            "\n",
            "INFO  | 2022-12-22 00:01:02,611  | file: demon_auto_purchase_bundle.py |  line: 57 | [demon] Выход из программы\n",
            "\n",
            "INFO  | 2022-12-23 00:01:03,082  | file: demon_auto_purchase_bundle.py |  line: 44 | [demon] Поверяем истекающие премиум-пакеты\n",
            "\n",
            "INFO  | 2022-12-23 00:01:03,111  | file: demon_auto_purchase_bundle.py |  line: 54 | [demon] Cегодня 2022-12-23, количество людей с автопродлением подписки: 2\n",
            "\n",
            "INFO  | 2022-12-23 00:01:03,114  | file: demon_auto_purchase_bundle.py |  line: 61 | [demon] Обновляем подписку пользователю id: 5281, payment_method_id: 2b105d08\n",
            "\n",
            "INFO  | 2022-12-23 00:01:07,628  | file: demon_auto_purchase_bundle.py |  line: 61 | [demon] Обновляем подписку пользователю id: 2715, payment_method_id: \n",
            "\n",
            "INFO  | 2022-12-23 00:01:07,628  | file: demon_auto_purchase_bundle.py |  line: 66 | [demon] У пользователя с id: 2715 --> истекает срок подписки. payment_method_id = None\n",
            "\n",
            "INFO  | 2022-12-24 00:01:02,621  | file: demon_auto_purchase_bundle.py |  line: 44 | [demon] Поверяем истекающие премиум-пакеты\n",
            "\n",
            "INFO  | 2022-12-24 00:01:02,643  | file: demon_auto_purchase_bundle.py |  line: 54 | [demon] Cегодня 2022-12-24, количество людей с автопродлением подписки: 2\n",
            "\n",
            "INFO  | 2022-12-24 00:01:02,647  | file: demon_auto_purchase_bundle.py |  line: 61 | [demon] Обновляем подписку пользователю id: 5277, payment_method_id: 2b115511\n",
            "\n",
            "INFO  | 2022-12-24 00:01:05,102  | file: demon_auto_purchase_bundle.py |  line: 61 | [demon] Обновляем подписку пользователю id: 5284, payment_method_id: 2b116eb7\n",
            "\n",
            "INFO  | 2022-12-25 00:01:02,560  | file: demon_auto_purchase_bundle.py |  line: 44 | [demon] Поверяем истекающие премиум-пакеты\n",
            "\n",
            "INFO  | 2022-12-25 00:01:02,589  | file: demon_auto_purchase_bundle.py |  line: 54 | [demon] Cегодня 2022-12-25, количество людей с автопродлением подписки: 0\n",
            "\n",
            "INFO  | 2022-12-25 00:01:02,593  | file: demon_auto_purchase_bundle.py |  line: 57 | [demon] Выход из программы\n",
            "\n",
            "INFO  | 2022-12-26 00:01:03,130  | file: demon_auto_purchase_bundle.py |  line: 44 | [demon] Поверяем истекающие премиум-пакеты\n",
            "\n",
            "INFO  | 2022-12-26 00:01:03,151  | file: demon_auto_purchase_bundle.py |  line: 54 | [demon] Cегодня 2022-12-26, количество людей с автопродлением подписки: 0\n",
            "\n",
            "INFO  | 2022-12-26 00:01:03,154  | file: demon_auto_purchase_bundle.py |  line: 57 | [demon] Выход из программы\n",
            "\n",
            "INFO  | 2022-12-27 00:01:02,245  | file: demon_auto_purchase_bundle.py |  line: 44 | [demon] Поверяем истекающие премиум-пакеты\n",
            "\n",
            "INFO  | 2022-12-27 00:01:02,266  | file: demon_auto_purchase_bundle.py |  line: 54 | [demon] Cегодня 2022-12-27, количество людей с автопродлением подписки: 0\n",
            "\n",
            "INFO  | 2022-12-27 00:01:02,269  | file: demon_auto_purchase_bundle.py |  line: 57 | [demon] Выход из программы\n",
            "\n",
            "INFO  | 2022-12-28 00:01:02,277  | file: demon_auto_purchase_bundle.py |  line: 44 | [demon] Поверяем истекающие премиум-пакеты\n",
            "\n",
            "INFO  | 2022-12-28 00:01:02,298  | file: demon_auto_purchase_bundle.py |  line: 54 | [demon] Cегодня 2022-12-28, количество людей с автопродлением подписки: 1\n",
            "\n",
            "INFO  | 2022-12-28 00:01:02,302  | file: demon_auto_purchase_bundle.py |  line: 61 | [demon] Обновляем подписку пользователю id: 5326, payment_method_id: 2b174073\n",
            "\n",
            "INFO  | 2022-12-29 00:01:02,721  | file: demon_auto_purchase_bundle.py |  line: 44 | [demon] Поверяем истекающие премиум-пакеты\n",
            "\n",
            "INFO  | 2022-12-29 00:01:02,746  | file: demon_auto_purchase_bundle.py |  line: 54 | [demon] Cегодня 2022-12-29, количество людей с автопродлением подписки: 3\n",
            "\n",
            "INFO  | 2022-12-29 00:01:02,749  | file: demon_auto_purchase_bundle.py |  line: 61 | [demon] Обновляем подписку пользователю id: 5014, payment_method_id: 2af064ab\n",
            "\n",
            "INFO  | 2022-12-29 00:01:04,451  | file: demon_auto_purchase_bundle.py |  line: 61 | [demon] Обновляем подписку пользователю id: 5019, payment_method_id: 2af0ffe6\n",
            "\n",
            "INFO  | 2022-12-29 00:01:06,493  | file: demon_auto_purchase_bundle.py |  line: 61 | [demon] Обновляем подписку пользователю id: 4366, payment_method_id: 2b18980a\n",
            "\n",
            "INFO  | 2022-12-30 00:01:04,904  | file: demon_auto_purchase_bundle.py |  line: 44 | [demon] Поверяем истекающие премиум-пакеты\n",
            "\n",
            "INFO  | 2022-12-30 00:01:04,977  | file: demon_auto_purchase_bundle.py |  line: 54 | [demon] Cегодня 2022-12-30, количество людей с автопродлением подписки: 0\n",
            "\n",
            "INFO  | 2022-12-30 00:01:04,985  | file: demon_auto_purchase_bundle.py |  line: 57 | [demon] Выход из программы\n",
            "\n",
            "INFO  | 2022-12-31 00:01:02,879  | file: demon_auto_purchase_bundle.py |  line: 53 | [demon] Поверяем истекающие премиум-пакеты\n",
            "\n",
            "INFO  | 2022-12-31 00:01:02,904  | file: demon_auto_purchase_bundle.py |  line: 68 | [demon] Cегодня 2022-12-31, количество людей с автопродлением подписки: 2\n",
            "\n",
            "INFO  | 2022-12-31 00:01:02,907  | file: demon_auto_purchase_bundle.py |  line: 77 | [demon] Обновляем подписку пользователю id: 5384, payment_method_id: 2b1a4961\n",
            "\n",
            "INFO  | 2023-01-01 00:01:02,552  | file: demon_auto_purchase_bundle.py |  line: 53 | [demon] Поверяем истекающие премиум-пакеты\n",
            "\n",
            "INFO  | 2023-01-01 00:01:02,576  | file: demon_auto_purchase_bundle.py |  line: 68 | [demon] Cегодня 2023-01-01, количество людей с автопродлением подписки: 1\n",
            "\n",
            "INFO  | 2023-01-01 00:01:02,580  | file: demon_auto_purchase_bundle.py |  line: 77 | [demon] Обновляем подписку пользователю id: 5398, payment_method_id: 2b1c3af6\n",
            "\n",
            "INFO  | 2023-01-02 00:01:02,887  | file: demon_auto_purchase_bundle.py |  line: 53 | [demon] Поверяем истекающие премиум-пакеты\n",
            "\n",
            "INFO  | 2023-01-02 00:01:02,911  | file: demon_auto_purchase_bundle.py |  line: 68 | [demon] Cегодня 2023-01-02, количество людей с автопродлением подписки: 0\n",
            "\n",
            "INFO  | 2023-01-02 00:01:02,914  | file: demon_auto_purchase_bundle.py |  line: 73 | [demon] Выход из программы\n",
            "\n",
            "INFO  | 2023-01-03 00:01:04,066  | file: demon_auto_purchase_bundle.py |  line: 53 | [demon] Поверяем истекающие премиум-пакеты\n",
            "\n",
            "INFO  | 2023-01-03 00:01:04,100  | file: demon_auto_purchase_bundle.py |  line: 68 | [demon] Cегодня 2023-01-03, количество людей с автопродлением подписки: 0\n",
            "\n",
            "INFO  | 2023-01-03 00:01:04,104  | file: demon_auto_purchase_bundle.py |  line: 73 | [demon] Выход из программы\n",
            "\n",
            "INFO  | 2023-01-04 00:01:02,718  | file: demon_auto_purchase_bundle.py |  line: 53 | [demon] Поверяем истекающие премиум-пакеты\n",
            "\n",
            "INFO  | 2023-01-04 00:01:02,741  | file: demon_auto_purchase_bundle.py |  line: 68 | [demon] Cегодня 2023-01-04, количество людей с автопродлением подписки: 1\n",
            "\n",
            "INFO  | 2023-01-04 00:01:02,744  | file: demon_auto_purchase_bundle.py |  line: 77 | [demon] Обновляем подписку пользователю id: 5076, payment_method_id: 2af8be86\n",
            "\n",
            "INFO  | 2023-01-05 00:01:03,183  | file: demon_auto_purchase_bundle.py |  line: 53 | [demon] Поверяем истекающие премиум-пакеты\n",
            "\n",
            "INFO  | 2023-01-05 00:01:03,207  | file: demon_auto_purchase_bundle.py |  line: 68 | [demon] Cегодня 2023-01-05, количество людей с автопродлением подписки: 1\n",
            "\n",
            "INFO  | 2023-01-05 00:01:03,210  | file: demon_auto_purchase_bundle.py |  line: 77 | [demon] Обновляем подписку пользователю id: 5104, payment_method_id: 2afa1bef\n",
            "\n",
            "INFO  | 2023-01-06 00:01:03,074  | file: demon_auto_purchase_bundle.py |  line: 53 | [demon] Поверяем истекающие премиум-пакеты\n",
            "\n",
            "INFO  | 2023-01-06 00:01:03,112  | file: demon_auto_purchase_bundle.py |  line: 68 | [demon] Cегодня 2023-01-06, количество людей с автопродлением подписки: 1\n",
            "\n",
            "INFO  | 2023-01-06 00:01:03,115  | file: demon_auto_purchase_bundle.py |  line: 77 | [demon] Обновляем подписку пользователю id: 4866, payment_method_id: 2b2272a1\n",
            "\n",
            "INFO  | 2023-01-07 00:01:02,867  | file: demon_auto_purchase_bundle.py |  line: 53 | [demon] Поверяем истекающие премиум-пакеты\n",
            "\n",
            "INFO  | 2023-01-07 00:01:02,890  | file: demon_auto_purchase_bundle.py |  line: 68 | [demon] Cегодня 2023-01-07, количество людей с автопродлением подписки: 0\n",
            "\n",
            "INFO  | 2023-01-07 00:01:02,893  | file: demon_auto_purchase_bundle.py |  line: 73 | [demon] Выход из программы\n",
            "\n",
            "INFO  | 2023-01-08 00:01:03,307  | file: demon_auto_purchase_bundle.py |  line: 53 | [demon] Поверяем истекающие премиум-пакеты\n",
            "\n",
            "INFO  | 2023-01-08 00:01:03,331  | file: demon_auto_purchase_bundle.py |  line: 68 | [demon] Cегодня 2023-01-08, количество людей с автопродлением подписки: 0\n",
            "\n",
            "INFO  | 2023-01-08 00:01:03,333  | file: demon_auto_purchase_bundle.py |  line: 73 | [demon] Выход из программы\n",
            "\n",
            "INFO  | 2023-01-09 00:01:03,080  | file: demon_auto_purchase_bundle.py |  line: 53 | [demon] Поверяем истекающие премиум-пакеты\n",
            "\n",
            "INFO  | 2023-01-09 00:01:03,106  | file: demon_auto_purchase_bundle.py |  line: 68 | [demon] Cегодня 2023-01-09, количество людей с автопродлением подписки: 0\n",
            "\n",
            "INFO  | 2023-01-09 00:01:03,110  | file: demon_auto_purchase_bundle.py |  line: 73 | [demon] Выход из программы\n",
            "\n",
            "INFO  | 2023-01-10 00:01:03,229  | file: demon_auto_purchase_bundle.py |  line: 53 | [demon] Поверяем истекающие премиум-пакеты\n",
            "\n",
            "INFO  | 2023-01-10 00:01:03,271  | file: demon_auto_purchase_bundle.py |  line: 68 | [demon] Cегодня 2023-01-10, количество людей с автопродлением подписки: 0\n",
            "\n",
            "INFO  | 2023-01-10 00:01:03,277  | file: demon_auto_purchase_bundle.py |  line: 73 | [demon] Выход из программы\n",
            "\n",
            "INFO  | 2023-01-11 00:01:03,418  | file: demon_auto_purchase_bundle.py |  line: 53 | [demon] Поверяем истекающие премиум-пакеты\n",
            "\n"
          ]
        }
      ]
    },
    {
      "cell_type": "code",
      "source": [
        "type(lines)"
      ],
      "metadata": {
        "colab": {
          "base_uri": "https://localhost:8080/"
        },
        "id": "eFfvYcs3RCZK",
        "outputId": "77047ed9-249e-4766-81f5-2d1ae9d7afb7"
      },
      "execution_count": null,
      "outputs": [
        {
          "output_type": "execute_result",
          "data": {
            "text/plain": [
              "list"
            ]
          },
          "metadata": {},
          "execution_count": 19
        }
      ]
    },
    {
      "cell_type": "markdown",
      "source": [
        "### **Решения**"
      ],
      "metadata": {
        "id": "CxmnD3GvffQ4"
      }
    },
    {
      "cell_type": "markdown",
      "source": [
        "#### **Задача 1**\n",
        "\n",
        "Ваша задача написать функцию `count_success_and_failure`, которая принимает на вход путь к файлу с логами и подсчитывает количество успешных продлений и ошибок при списании. Функция должна вернуть кортеж из двух значений: количества успешных попыток и неуспешных."
      ],
      "metadata": {
        "id": "5bdLXu2ksLB7"
      }
    },
    {
      "cell_type": "markdown",
      "source": [
        "**Решение**\n",
        "\n",
        "Напишите свое решение ниже"
      ],
      "metadata": {
        "id": "qUL4LtIUnJge"
      }
    },
    {
      "cell_type": "code",
      "source": [
        "cnt_errors = 0\n",
        "cnt_subs = 0\n",
        "for line in lines:\n",
        "    line_list = line.replace('  ', ' ').split(' | ')\n",
        "    next_line = lines[lines.index(line) + 1].replace('  ', ' ').split(' | ') if lines.index(line) != len(lines)-1 else line.replace('  ', ' ').split(' | ')\n",
        "    if 'Обновляем подписку пользователю' in line_list[4]:\n",
        "      if next_line[0] == 'ERROR':\n",
        "        cnt_errors += 1\n",
        "      else:\n",
        "        cnt_subs += 1\n",
        "\n",
        "print(cnt_errors, cnt_subs)"
      ],
      "metadata": {
        "colab": {
          "base_uri": "https://localhost:8080/"
        },
        "collapsed": true,
        "id": "P7kaPT1zM-9l",
        "outputId": "84580264-4bd3-45c0-f395-b659dca965b6"
      },
      "execution_count": null,
      "outputs": [
        {
          "output_type": "stream",
          "name": "stdout",
          "text": [
            "186 1034\n"
          ]
        }
      ]
    },
    {
      "cell_type": "code",
      "source": [
        "\n",
        "def count_success_and_failure(file_path):\n",
        "    with open(file_path, 'r') as f:\n",
        "      lines = f.readlines()\n",
        "\n",
        "    cnt_errors = 0\n",
        "    cnt_subs = 0\n",
        "    for line in lines:\n",
        "      line_list = line.replace('  ', ' ').split(' | ')\n",
        "      next_line = lines[lines.index(line) + 1].replace('  ', ' ').split(' | ') if lines.index(line) != len(lines)-1 else line.replace('  ', ' ').split(' | ')\n",
        "      if 'Обновляем подписку пользователю' in line_list[4]:\n",
        "        if next_line[0] == 'ERROR':\n",
        "          cnt_errors += 1\n",
        "        else:\n",
        "          cnt_subs += 1\n",
        "\n",
        "    return (cnt_subs, cnt_errors)\n",
        "\n",
        "\n",
        "count_success_and_failure('auto_purchase.log')"
      ],
      "metadata": {
        "id": "Ia39hhmZbNRW",
        "colab": {
          "base_uri": "https://localhost:8080/"
        },
        "outputId": "b2d5d08c-aa0d-4f68-dbc7-d895162647ac"
      },
      "execution_count": null,
      "outputs": [
        {
          "output_type": "execute_result",
          "data": {
            "text/plain": [
              "(1034, 186)"
            ]
          },
          "metadata": {},
          "execution_count": 3
        }
      ]
    },
    {
      "cell_type": "markdown",
      "source": [
        "✏️ ✏️ ✏️\n",
        "\n",
        "**Проверка**\n",
        "\n",
        "Чтобы проверить свое решение, запустите код в следующих ячейках"
      ],
      "metadata": {
        "id": "54Tvpn9OkDwV"
      }
    },
    {
      "cell_type": "code",
      "source": [
        "res = count_success_and_failure('auto_purchase.log')\n",
        "\n",
        "try:\n",
        "    assert res == (1034, 186)\n",
        "except AssertionError:\n",
        "    print('Ответы не совпадают')\n",
        "else:\n",
        "    print('Поздравляем, Вы справились!')"
      ],
      "metadata": {
        "id": "LkqzVw9skKEC",
        "colab": {
          "base_uri": "https://localhost:8080/"
        },
        "outputId": "5e15e1dd-43a5-4fe5-c6ad-959d1b06e87e"
      },
      "execution_count": null,
      "outputs": [
        {
          "output_type": "stream",
          "name": "stdout",
          "text": [
            "Поздравляем, Вы справились!\n"
          ]
        }
      ]
    },
    {
      "cell_type": "markdown",
      "source": [
        "#### **Задача 2**\n",
        "\n",
        "Ваша задача написать функцию `auto_renewal_sub`, которая принимает на вход путь к файлу с логами и обрабатывает количество клиентов с автопродлением подписки. Мы хотим посмотреть на изменение этого показателя в динамике: посчитайте сглаженные значения с помощью метода скользящего среднего и метода медианного сглаживания.  \n",
        "\n",
        "**Примечание:** При сглаживании берем все предыдущие значения, включая текущее, будущие значения не берем. Если в один день наблюдаем несколько записей об автопродлении - берем максимальное из имеющихся число клиентов с подпиской.\n",
        "\n",
        "Функция должна записать в файл `auto_renewal_sub.txt` два списка, предварив их соответствущими обозначениями:\n",
        "\n",
        "`Среднее: [2.0, 1.0, 0.67...]`\n",
        "\n",
        "`Медиана: [2, 2, 0...]`"
      ],
      "metadata": {
        "id": "QLNMvvhXoIdV"
      }
    },
    {
      "cell_type": "markdown",
      "source": [
        "**Решение**\n",
        "\n",
        "Напишите свое решение ниже"
      ],
      "metadata": {
        "id": "LThhpSINoMHN"
      }
    },
    {
      "cell_type": "code",
      "source": [
        "from datetime import datetime\n",
        "from statistics import median\n",
        "\n",
        "def auto_renewal_sub(log_file_path):\n",
        "  with open(log_file_path, 'r') as f:\n",
        "    lines = f.readlines()\n",
        "\n",
        "  # только нужная информация из логов\n",
        "  logs_arr = [line.replace('  ', ' ').split(' | ') for line in lines if 'количество людей с автопродлением подписки:' in line]\n",
        "\n",
        "  subs_info = {}\n",
        "  # отдельная функция для вывода массива с кол-вом автопродлениц\n",
        "  for log in logs_arr:\n",
        "      current_date = datetime.strptime(log[1].replace(',', '.'), '%Y-%m-%d %H:%M:%S.%f').date()\n",
        "\n",
        "      # получаем массив с данными о продлении всех\n",
        "      all_subs = [int(i[4].split(', ')[1].split(': ')[1].replace('\\n', '')) for i in logs_arr if datetime.strptime(i[1].replace(',', '.'), '%Y-%m-%d %H:%M:%S.%f').date() == current_date]\n",
        "      subs_info[current_date] = max(all_subs) if all_subs else 0\n",
        "\n",
        "  # сортируем полученный результат\n",
        "  subs_info = dict(sorted(subs_info.items()))\n",
        "  subs_info_cnts = list(subs_info.values())\n",
        "\n",
        "  avg = []\n",
        "  mediana = []\n",
        "  for i in range(len(subs_info_cnts)):\n",
        "    temp_avg = round(sum(subs_info_cnts[:i+1]) / len(subs_info_cnts[:i+1]), 2)\n",
        "    avg.append(temp_avg)\n",
        "\n",
        "    temp_mediana = round(median(subs_info_cnts[:i+1]))\n",
        "    mediana.append(temp_mediana)\n",
        "\n",
        "  with open('auto_renewal_sub.txt', 'w') as outfile:\n",
        "    outfile.writelines(f'Среднее: {avg}\\nМедиана: {mediana}')\n",
        "\n",
        "auto_renewal_sub('auto_purchase.log')"
      ],
      "metadata": {
        "id": "9s8JBMlboJuf"
      },
      "execution_count": 70,
      "outputs": []
    },
    {
      "cell_type": "markdown",
      "source": [
        "✏️ ✏️ ✏️\n",
        "\n",
        "**Проверка**\n",
        "\n",
        "Чтобы проверить свое решение, запустите код в следующих ячейках"
      ],
      "metadata": {
        "id": "GN_PNZICsxRD"
      }
    },
    {
      "cell_type": "code",
      "source": [
        "# Здесь будет скачиваться файл с эталонным ответом\n",
        "\n",
        "!wget https://gist.github.com/Vs8th/846cbc97a722ab825cda4dda3b2b3434/raw/cor_auto_renewal.txt\n",
        "\n",
        "import pandas as pd\n",
        "\n",
        "user_answer = pd.read_csv('auto_renewal_sub.txt')\n",
        "correct_answer = pd.read_csv('cor_auto_renewal.txt')"
      ],
      "metadata": {
        "id": "tys9eJRSqcEW",
        "collapsed": true,
        "outputId": "596f2b57-706a-4430-e22f-5a97787f6c22",
        "colab": {
          "base_uri": "https://localhost:8080/"
        }
      },
      "execution_count": 74,
      "outputs": [
        {
          "output_type": "stream",
          "name": "stdout",
          "text": [
            "--2024-10-29 12:40:20--  https://gist.github.com/Vs8th/846cbc97a722ab825cda4dda3b2b3434/raw/cor_auto_renewal.txt\n",
            "Resolving gist.github.com (gist.github.com)... 140.82.112.4\n",
            "Connecting to gist.github.com (gist.github.com)|140.82.112.4|:443... connected.\n",
            "HTTP request sent, awaiting response... 301 Moved Permanently\n",
            "Location: https://gist.githubusercontent.com/Vs8th/846cbc97a722ab825cda4dda3b2b3434/raw/cor_auto_renewal.txt [following]\n",
            "--2024-10-29 12:40:21--  https://gist.githubusercontent.com/Vs8th/846cbc97a722ab825cda4dda3b2b3434/raw/cor_auto_renewal.txt\n",
            "Resolving gist.githubusercontent.com (gist.githubusercontent.com)... 185.199.111.133, 185.199.109.133, 185.199.110.133, ...\n",
            "Connecting to gist.githubusercontent.com (gist.githubusercontent.com)|185.199.111.133|:443... connected.\n",
            "HTTP request sent, awaiting response... 200 OK\n",
            "Length: 2431 (2.4K) [text/plain]\n",
            "Saving to: ‘cor_auto_renewal.txt.7’\n",
            "\n",
            "cor_auto_renewal.tx 100%[===================>]   2.37K  --.-KB/s    in 0s      \n",
            "\n",
            "2024-10-29 12:40:21 (28.7 MB/s) - ‘cor_auto_renewal.txt.7’ saved [2431/2431]\n",
            "\n"
          ]
        }
      ]
    },
    {
      "cell_type": "code",
      "source": [
        "try:\n",
        "  assert (user_answer == correct_answer).all().all(), 'Ответы не совпадают'\n",
        "except Exception as err:\n",
        "  raise AssertionError(f'При проверке возникла ошибка {repr(err)}')\n",
        "else:\n",
        "  print('Поздравляем, Вы справились и успешно прошли все проверки!!')"
      ],
      "metadata": {
        "colab": {
          "base_uri": "https://localhost:8080/"
        },
        "id": "a36bM9j9tD7l",
        "outputId": "9ead8c90-de5b-4b75-d387-a5ee6ec7a615"
      },
      "execution_count": 75,
      "outputs": [
        {
          "output_type": "stream",
          "name": "stdout",
          "text": [
            "Поздравляем, Вы справились и успешно прошли все проверки!!\n"
          ]
        }
      ]
    },
    {
      "cell_type": "markdown",
      "source": [
        "#### **Задача 3**\n",
        "\n",
        "Напишите функцию `sub_renewal_by_day`, которая принимает на вход путь к файлу с логами и анализирует взаимосвязь дня продления подписки и количества продлений в этот день. Функция должна записать в файл `weekdays.txt` аналитическую записку в формате:\n",
        "\n",
        "**`Количество обновлений подписки по дням недели:`**\n",
        "\n",
        "**`Понедельник: 6`**\n",
        "\n",
        "**`Вторник: 7`**\n",
        "\n",
        "**`Среда: 8`**\n",
        "\n",
        "**`...`**"
      ],
      "metadata": {
        "id": "AwB-HtPLtjyl"
      }
    },
    {
      "cell_type": "markdown",
      "source": [
        "**Решение**\n",
        "\n",
        "Напишите свое решение ниже"
      ],
      "metadata": {
        "id": "GOTB--hmt2xw"
      }
    },
    {
      "cell_type": "code",
      "source": [
        "week = {\n",
        "    1: 'Понедельник',\n",
        "    2: 'Вторник',\n",
        "    3: 'Среда',\n",
        "    4: 'Четверг',\n",
        "    5: 'Пятница',\n",
        "    6: 'Суббота',\n",
        "    7: 'Воскресенье'\n",
        "}\n",
        "\n",
        "logs_arr = [line.replace('  ', ' ').split(' | ') for line in lines if 'количество людей с автопродлением подписки:' in line]\n",
        "\n",
        "cnt_subs = [int(i[4].split(', ')[1].split(': ')[1].replace('\\n', '')) for i in logs_arr if datetime.strptime(i[1].replace(',', '.'), '%Y-%m-%d %H:%M:%S.%f').date() == current_date]\n",
        "\n"
      ],
      "metadata": {
        "id": "gKtOhS7iOf-d"
      },
      "execution_count": null,
      "outputs": []
    },
    {
      "cell_type": "code",
      "source": [
        "from datetime import datetime\n",
        "\n",
        "def sub_renewal_by_day(file_path):\n",
        "    with open('auto_purchase.log', 'r') as f:\n",
        "        lines = f.readlines()\n",
        "    # собираем данные по подпискам и ошибкам\n",
        "    logs_arr = [line.replace('  ', ' ').split(' | ') for line in lines if 'Обновляем подписку пользователю' in line or 'ERROR' in line]\n",
        "\n",
        "    # забираем информацию только по успешным подпискам\n",
        "    success_subs = list(filter(lambda i: (i == len(logs_arr) - 1) or\n",
        "                     (logs_arr[i+1][0] != 'ERROR' and logs_arr[i][0] != 'ERROR'),\n",
        "                   range(len(logs_arr))))\n",
        "    success_subs = [logs_arr[i] for i in success_subs]\n",
        "\n",
        "\n",
        "    week = {\n",
        "        1: 'Понедельник',\n",
        "        2: 'Вторник',\n",
        "        3: 'Среда',\n",
        "        4: 'Четверг',\n",
        "        5: 'Пятница',\n",
        "        6: 'Суббота',\n",
        "        7: 'Воскресенье'\n",
        "    }\n",
        "\n",
        "    cnt_by_weekday = {}\n",
        "\n",
        "\n",
        "    for log in success_subs:\n",
        "        weekday = datetime.strptime(log[1].replace(',', '.'), '%Y-%m-%d %H:%M:%S.%f').isoweekday()\n",
        "\n",
        "        if cnt_by_weekday.get(week[weekday], 0) == 0:\n",
        "            cnt_by_weekday[week[weekday]] = 0\n",
        "\n",
        "        cnt_by_weekday[week[weekday]] += 1\n",
        "\n",
        "    cnt_by_weekday = dict(sorted(cnt_by_weekday.items(), key=lambda item: list(week.values()).index(item[0])))\n",
        "\n",
        "    with open('weekdays.txt', 'w') as f:\n",
        "        f.write('Количество обновлений подписки по дням недели:')\n",
        "        for key, value in cnt_by_weekday.items():\n",
        "            f.write(f'\\n{key}: {value}')\n",
        "\n",
        "\n",
        "sub_renewal_by_day('auto_purchase.log')"
      ],
      "metadata": {
        "id": "fz7nRb_ntKMv"
      },
      "execution_count": 76,
      "outputs": []
    },
    {
      "cell_type": "markdown",
      "source": [
        "✏️ ✏️ ✏️\n",
        "\n",
        "**Проверка**\n",
        "\n",
        "Чтобы проверить свое решение, запустите код в следующих ячейках"
      ],
      "metadata": {
        "id": "0-7TiI06t8D0"
      }
    },
    {
      "cell_type": "code",
      "source": [
        "# Здесь будет скачиваться файл с эталонным ответом\n",
        "\n",
        "!wget https://gist.github.com/Vs8th/c4c382f50761b5b9e64795eb89d49fda/raw/cor_weekdays.txt\n",
        "\n",
        "import pandas as pd\n",
        "\n",
        "user_answer = pd.read_csv('weekdays.txt')\n",
        "correct_answer = pd.read_csv('cor_weekdays.txt')"
      ],
      "metadata": {
        "id": "eOzvKzYqt_UH",
        "colab": {
          "base_uri": "https://localhost:8080/"
        },
        "outputId": "0ce0ab1f-ea29-45ed-8824-5f9c3dc6fae5"
      },
      "execution_count": 77,
      "outputs": [
        {
          "output_type": "stream",
          "name": "stdout",
          "text": [
            "--2024-10-29 14:26:27--  https://gist.github.com/Vs8th/c4c382f50761b5b9e64795eb89d49fda/raw/cor_weekdays.txt\n",
            "Resolving gist.github.com (gist.github.com)... 140.82.112.3\n",
            "Connecting to gist.github.com (gist.github.com)|140.82.112.3|:443... connected.\n",
            "HTTP request sent, awaiting response... 301 Moved Permanently\n",
            "Location: https://gist.githubusercontent.com/Vs8th/c4c382f50761b5b9e64795eb89d49fda/raw/cor_weekdays.txt [following]\n",
            "--2024-10-29 14:26:28--  https://gist.githubusercontent.com/Vs8th/c4c382f50761b5b9e64795eb89d49fda/raw/cor_weekdays.txt\n",
            "Resolving gist.githubusercontent.com (gist.githubusercontent.com)... 185.199.108.133, 185.199.109.133, 185.199.110.133, ...\n",
            "Connecting to gist.githubusercontent.com (gist.githubusercontent.com)|185.199.108.133|:443... connected.\n",
            "HTTP request sent, awaiting response... 200 OK\n",
            "Length: 238 [text/plain]\n",
            "Saving to: ‘cor_weekdays.txt’\n",
            "\n",
            "cor_weekdays.txt    100%[===================>]     238  --.-KB/s    in 0s      \n",
            "\n",
            "2024-10-29 14:26:28 (9.18 MB/s) - ‘cor_weekdays.txt’ saved [238/238]\n",
            "\n"
          ]
        }
      ]
    },
    {
      "cell_type": "code",
      "source": [
        "try:\n",
        "  assert (user_answer == correct_answer).all().all(), 'Ответы не совпадают'\n",
        "except Exception as err:\n",
        "  raise AssertionError(f'При проверке возникла ошибка {repr(err)}')\n",
        "else:\n",
        "  print('Поздравляем, Вы справились и успешно прошли все проверки!!')"
      ],
      "metadata": {
        "colab": {
          "base_uri": "https://localhost:8080/"
        },
        "id": "KzV-hUKcvxb2",
        "outputId": "8842acef-d243-4117-fbd5-a413cbd69ccb"
      },
      "execution_count": 78,
      "outputs": [
        {
          "output_type": "stream",
          "name": "stdout",
          "text": [
            "Поздравляем, Вы справились и успешно прошли все проверки!!\n"
          ]
        }
      ]
    }
  ]
}