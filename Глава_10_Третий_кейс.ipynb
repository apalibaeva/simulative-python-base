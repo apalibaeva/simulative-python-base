{
  "nbformat": 4,
  "nbformat_minor": 0,
  "metadata": {
    "colab": {
      "provenance": [],
      "collapsed_sections": [
        "OrwoZ-wR0jJq"
      ],
      "include_colab_link": true
    },
    "kernelspec": {
      "name": "python3",
      "display_name": "Python 3"
    },
    "language_info": {
      "name": "python"
    }
  },
  "cells": [
    {
      "cell_type": "markdown",
      "metadata": {
        "id": "view-in-github",
        "colab_type": "text"
      },
      "source": [
        "<a href=\"https://colab.research.google.com/github/apalibaeva/simulative-python-base/blob/main/%D0%93%D0%BB%D0%B0%D0%B2%D0%B0_10_%D0%A2%D1%80%D0%B5%D1%82%D0%B8%D0%B9_%D0%BA%D0%B5%D0%B9%D1%81.ipynb\" target=\"_parent\"><img src=\"https://colab.research.google.com/assets/colab-badge.svg\" alt=\"Open In Colab\"/></a>"
      ]
    },
    {
      "cell_type": "markdown",
      "source": [
        "## 3 кейс\n",
        "\n",
        "**В этом кейсе вы будете рассчитывать:**\n",
        "* retention\n",
        "* rolling retention\n",
        "* lifetime\n",
        "* churn rate\n",
        "* mau\n",
        "* wau\n",
        "* dau"
      ],
      "metadata": {
        "id": "T_xBU6WvyPhY"
      }
    },
    {
      "cell_type": "markdown",
      "source": [
        "**Важно**\n",
        "\n",
        "Перед началом решения задачи выполните следующую ячейку - в ней скачиваются нужные файлы"
      ],
      "metadata": {
        "id": "U2D5zGSdzc92"
      }
    },
    {
      "cell_type": "code",
      "execution_count": 3,
      "metadata": {
        "id": "3eJFMuMpyCp-",
        "colab": {
          "base_uri": "https://localhost:8080/"
        },
        "outputId": "5eb00157-250f-4939-b4b5-ad431329a728"
      },
      "outputs": [
        {
          "output_type": "stream",
          "name": "stdout",
          "text": [
            "--2024-10-21 20:01:12--  https://gist.github.com/Vs8th/739269a03f2f4a7396d04d6739da3771/raw/registrations.csv\n",
            "Resolving gist.github.com (gist.github.com)... 140.82.113.4\n",
            "Connecting to gist.github.com (gist.github.com)|140.82.113.4|:443... connected.\n",
            "HTTP request sent, awaiting response... 301 Moved Permanently\n",
            "Location: https://gist.githubusercontent.com/Vs8th/739269a03f2f4a7396d04d6739da3771/raw/registrations.csv [following]\n",
            "--2024-10-21 20:01:12--  https://gist.githubusercontent.com/Vs8th/739269a03f2f4a7396d04d6739da3771/raw/registrations.csv\n",
            "Resolving gist.githubusercontent.com (gist.githubusercontent.com)... 185.199.109.133, 185.199.110.133, 185.199.108.133, ...\n",
            "Connecting to gist.githubusercontent.com (gist.githubusercontent.com)|185.199.109.133|:443... connected.\n",
            "HTTP request sent, awaiting response... 200 OK\n",
            "Length: 14918 (15K) [text/plain]\n",
            "Saving to: ‘registrations.csv’\n",
            "\n",
            "registrations.csv   100%[===================>]  14.57K  --.-KB/s    in 0s      \n",
            "\n",
            "2024-10-21 20:01:12 (33.5 MB/s) - ‘registrations.csv’ saved [14918/14918]\n",
            "\n",
            "--2024-10-21 20:01:12--  https://gist.github.com/Vs8th/aacb80595d1d6aaa2e31eb735f8bc644/raw/entries.csv\n",
            "Resolving gist.github.com (gist.github.com)... 140.82.113.4\n",
            "Connecting to gist.github.com (gist.github.com)|140.82.113.4|:443... connected.\n",
            "HTTP request sent, awaiting response... 301 Moved Permanently\n",
            "Location: https://gist.githubusercontent.com/Vs8th/aacb80595d1d6aaa2e31eb735f8bc644/raw/entries.csv [following]\n",
            "--2024-10-21 20:01:12--  https://gist.githubusercontent.com/Vs8th/aacb80595d1d6aaa2e31eb735f8bc644/raw/entries.csv\n",
            "Resolving gist.githubusercontent.com (gist.githubusercontent.com)... 185.199.109.133, 185.199.110.133, 185.199.108.133, ...\n",
            "Connecting to gist.githubusercontent.com (gist.githubusercontent.com)|185.199.109.133|:443... connected.\n",
            "HTTP request sent, awaiting response... 200 OK\n",
            "Length: 308588 (301K) [text/plain]\n",
            "Saving to: ‘entries.csv’\n",
            "\n",
            "entries.csv         100%[===================>] 301.36K  --.-KB/s    in 0.05s   \n",
            "\n",
            "2024-10-21 20:01:13 (5.99 MB/s) - ‘entries.csv’ saved [308588/308588]\n",
            "\n",
            "--2024-10-21 20:01:13--  https://gist.github.com/Vs8th/0e827e9a608117345dd6585ab81e8c86/raw/metrics.txt\n",
            "Resolving gist.github.com (gist.github.com)... 140.82.113.4\n",
            "Connecting to gist.github.com (gist.github.com)|140.82.113.4|:443... connected.\n",
            "HTTP request sent, awaiting response... 301 Moved Permanently\n",
            "Location: https://gist.githubusercontent.com/Vs8th/0e827e9a608117345dd6585ab81e8c86/raw/metrics.txt [following]\n",
            "--2024-10-21 20:01:13--  https://gist.githubusercontent.com/Vs8th/0e827e9a608117345dd6585ab81e8c86/raw/metrics.txt\n",
            "Resolving gist.githubusercontent.com (gist.githubusercontent.com)... 185.199.109.133, 185.199.110.133, 185.199.108.133, ...\n",
            "Connecting to gist.githubusercontent.com (gist.githubusercontent.com)|185.199.109.133|:443... connected.\n",
            "HTTP request sent, awaiting response... 200 OK\n",
            "Length: 67 [text/plain]\n",
            "Saving to: ‘metrics.txt’\n",
            "\n",
            "metrics.txt         100%[===================>]      67  --.-KB/s    in 0s      \n",
            "\n",
            "2024-10-21 20:01:13 (1.61 MB/s) - ‘metrics.txt’ saved [67/67]\n",
            "\n"
          ]
        }
      ],
      "source": [
        "!wget https://gist.github.com/Vs8th/739269a03f2f4a7396d04d6739da3771/raw/registrations.csv\n",
        "\n",
        "!wget https://gist.github.com/Vs8th/aacb80595d1d6aaa2e31eb735f8bc644/raw/entries.csv\n",
        "\n",
        "!wget https://gist.github.com/Vs8th/0e827e9a608117345dd6585ab81e8c86/raw/metrics.txt"
      ]
    },
    {
      "cell_type": "markdown",
      "source": [
        "Файлами для работы являются `registrations.csv` и `entries.csv`. В них хранятся данные о регистрациях пользователей и входа на платформу соответственно."
      ],
      "metadata": {
        "id": "vnMFicli7Fa7"
      }
    },
    {
      "cell_type": "markdown",
      "source": [
        "### **Посчитайте Retention 15 дня (в процентах) для пользователей, зарегистрированных в январе**\n",
        "\n",
        "Cохраните результат в переменную `retention_15_day`\n",
        "\n",
        "**Примечание:** результат округлите до 5 знаков после запятой"
      ],
      "metadata": {
        "id": "s2g2hxfMzqLo"
      }
    },
    {
      "cell_type": "code",
      "source": [
        "# Ваше решение\n",
        "import csv\n",
        "from datetime import datetime\n",
        "\n",
        "reg_info = []\n",
        "ent_info = []\n",
        "\n",
        "with open('registrations.csv', 'r', newline='', encoding='utf-8') as reg_file:\n",
        "  reg_reader = csv.DictReader(reg_file, delimiter=';')\n",
        "\n",
        "  for row in reg_reader:\n",
        "    reg_info.append(row)\n",
        "\n",
        "\n",
        "with open('entries.csv', 'r', newline='', encoding='utf-8') as ent_file:\n",
        "  ent_reader = csv.DictReader(ent_file, delimiter=';')\n",
        "\n",
        "  for row in ent_reader:\n",
        "    ent_info.append(row)\n"
      ],
      "metadata": {
        "id": "u5l9mm-vzpJ8"
      },
      "execution_count": 14,
      "outputs": []
    },
    {
      "cell_type": "code",
      "source": [
        "cnt_reg = 0\n",
        "counted_users = []\n",
        "for i in reg_info:\n",
        "    if datetime.strptime(i['registration_date'], '%Y-%m-%d').month == 1: #and i['user_id'] not in counted_users:\n",
        "        cnt_reg += 1\n",
        "        counted_users.append(i['user_id'])"
      ],
      "metadata": {
        "id": "3QFViJpnKDt2"
      },
      "execution_count": 15,
      "outputs": []
    },
    {
      "cell_type": "code",
      "source": [
        "temp_dict = {item['user_id']: item for item in reg_info}"
      ],
      "metadata": {
        "id": "9yubTTnkB_oH"
      },
      "execution_count": 16,
      "outputs": []
    },
    {
      "cell_type": "code",
      "source": [
        "combined_info = []\n",
        "for row in ent_info:\n",
        "    if row['user_id'] in temp_dict:\n",
        "        entry_date = datetime.strptime(row['entry_date'], '%Y-%m-%d')\n",
        "        reg_date = datetime.strptime(temp_dict[row['user_id']]['registration_date'], '%Y-%m-%d')\n",
        "        if reg_date.month == 1:\n",
        "            addition = {**row, **temp_dict[row['user_id']], 'days_diff': (entry_date - reg_date).days}\n",
        "            combined_info.append(addition)"
      ],
      "metadata": {
        "id": "XHZ_OUGKCERQ"
      },
      "execution_count": 17,
      "outputs": []
    },
    {
      "cell_type": "code",
      "source": [
        "cnt_15 = 0\n",
        "counted_users = []\n",
        "for item in combined_info:\n",
        "    if item['days_diff'] == 15 and item['user_id'] not in counted_users:\n",
        "        cnt_15 += 1\n",
        "        counted_users.append(item['user_id'])"
      ],
      "metadata": {
        "id": "ytLjBwa-CGs-"
      },
      "execution_count": 18,
      "outputs": []
    },
    {
      "cell_type": "code",
      "source": [
        "retention_15_day = round((cnt_15 / cnt_reg) * 100, 5)"
      ],
      "metadata": {
        "id": "XOA2ul_RCIyU"
      },
      "execution_count": 19,
      "outputs": []
    },
    {
      "cell_type": "code",
      "source": [
        "cnt_reg, cnt_15, retention_15_day"
      ],
      "metadata": {
        "colab": {
          "base_uri": "https://localhost:8080/"
        },
        "id": "dH2wzXQTIelW",
        "outputId": "c27ced20-a4c5-41e6-b7c0-bae99c8303f0"
      },
      "execution_count": 20,
      "outputs": [
        {
          "output_type": "execute_result",
          "data": {
            "text/plain": [
              "(86, 47, 54.65116)"
            ]
          },
          "metadata": {},
          "execution_count": 20
        }
      ]
    },
    {
      "cell_type": "code",
      "source": [
        "#@title ✏️ Проверка: чтобы проверить свое решение запустите код в этой ячейке\n",
        "# Открываем файл с правильными ответами\n",
        "with open('metrics.txt', 'r') as f:\n",
        "    answers = f.read().split('\\n')\n",
        "\n",
        "correct_answer = float(answers[0])\n",
        "\n",
        "try:\n",
        "    assert retention_15_day == correct_answer\n",
        "except AssertionError:\n",
        "    print('Ответы не совпадают')\n",
        "else:\n",
        "    print('Поздравляем, Вы справились!')"
      ],
      "metadata": {
        "colab": {
          "base_uri": "https://localhost:8080/"
        },
        "cellView": "form",
        "id": "YGydKAis0Ae9",
        "outputId": "fb406427-8efe-44ff-8ee3-941fcbe05053"
      },
      "execution_count": 29,
      "outputs": [
        {
          "output_type": "stream",
          "name": "stdout",
          "text": [
            "Поздравляем, Вы справились!\n"
          ]
        }
      ]
    },
    {
      "cell_type": "markdown",
      "source": [
        "**Посчитайте Rolling-retention 30 дня (в процентах) для пользователей из той же когорты**\n",
        "\n",
        "Сохраните результат в переменную `rolling_retention`\n",
        "\n",
        "**Примечание:** результат округлите до 5 знаков после запятой"
      ],
      "metadata": {
        "id": "TbkdEVLI0Cor"
      }
    },
    {
      "cell_type": "code",
      "source": [
        "# Ваше решение\n",
        "import csv\n",
        "from datetime import datetime\n",
        "\n",
        "reg_info = []\n",
        "ent_info = []\n",
        "\n",
        "with open('registrations.csv', 'r', newline='', encoding='utf-8') as reg_file:\n",
        "  reg_reader = csv.DictReader(reg_file, delimiter=';')\n",
        "\n",
        "  for row in reg_reader:\n",
        "        user_id = row['user_id']\n",
        "        reg_date = datetime.strptime(row['registration_date'], '%Y-%m-%d')\n",
        "        if reg_date.month == 1:\n",
        "            reg_info.append({'user_id': user_id, 'reg_date': reg_date})\n",
        "\n",
        "\n",
        "with open('entries.csv', 'r', newline='', encoding='utf-8') as ent_file:\n",
        "  ent_reader = csv.DictReader(ent_file, delimiter=';')\n",
        "\n",
        "  for row in ent_reader:\n",
        "        entry_date = datetime.strptime(row['entry_date'], '%Y-%m-%d')\n",
        "        ent_info.append({'user_id': row['user_id'], 'entry_date': entry_date})\n",
        "\n"
      ],
      "metadata": {
        "id": "keCBmUDJ0Hho"
      },
      "execution_count": 21,
      "outputs": []
    },
    {
      "cell_type": "code",
      "source": [
        "result = []\n",
        "for i in reg_info:\n",
        "    user_id = i['user_id']\n",
        "    reg_date = i['reg_date']\n",
        "\n",
        "    #есть дубли в датах по захода на одного пользователя, поэтому по каждому пользователю дату захода сохраняем в множество\n",
        "    user_entries = set([entries['entry_date'] for entries in ent_info if entries['user_id'] == user_id])\n",
        "    user_entries = list(user_entries)\n",
        "    user_entries.sort()\n",
        "\n",
        "    for entry in user_entries:\n",
        "        days_diff = (entry - reg_date).days\n",
        "        result.append({'user_id': user_id, 'reg_date': reg_date, 'days_diff': days_diff})"
      ],
      "metadata": {
        "id": "Y4hbVjOLiCvX"
      },
      "execution_count": 22,
      "outputs": []
    },
    {
      "cell_type": "code",
      "source": [
        "total_users = len(reg_info)\n",
        "returned_users = len([item for item in result if item['days_diff'] >= 30])"
      ],
      "metadata": {
        "id": "YRK1-hC1iFTr"
      },
      "execution_count": 23,
      "outputs": []
    },
    {
      "cell_type": "code",
      "source": [
        "rolling_retention = round(returned_users / cnt_reg * 100, 5)\n",
        "rolling_retention"
      ],
      "metadata": {
        "colab": {
          "base_uri": "https://localhost:8080/"
        },
        "id": "RwPPTL1-iRNv",
        "outputId": "5541b0a5-d84e-4ef0-c1db-1750d3a08d58"
      },
      "execution_count": 24,
      "outputs": [
        {
          "output_type": "execute_result",
          "data": {
            "text/plain": [
              "29.06977"
            ]
          },
          "metadata": {},
          "execution_count": 24
        }
      ]
    },
    {
      "cell_type": "code",
      "source": [
        "#@title ✏️ Проверка: чтобы проверить свое решение запустите код в этой ячейке\n",
        "correct_answer = float(answers[1])\n",
        "\n",
        "try:\n",
        "    assert rolling_retention == correct_answer\n",
        "except AssertionError:\n",
        "    print('Ответы не совпадают')\n",
        "else:\n",
        "    print('Поздравляем, Вы справились!')"
      ],
      "metadata": {
        "cellView": "form",
        "id": "fTwUwQZ40JCl",
        "colab": {
          "base_uri": "https://localhost:8080/"
        },
        "outputId": "7b3ada99-bb42-44ac-f812-064f839570bd"
      },
      "execution_count": 30,
      "outputs": [
        {
          "output_type": "stream",
          "name": "stdout",
          "text": [
            "Поздравляем, Вы справились!\n"
          ]
        }
      ]
    },
    {
      "cell_type": "markdown",
      "source": [
        "### **Посчитайте Lifetime по всем пользователям, посчитанный как интеграл от n-day retention**\n",
        "\n",
        "Сохраните результат в переменную `lifetime`\n",
        "\n",
        "**Примечание:** результат округлите до 5 знаков после запятой"
      ],
      "metadata": {
        "id": "wxkhEVmF0PAo"
      }
    },
    {
      "cell_type": "code",
      "source": [
        "reg_info = []\n",
        "\n",
        "with open('registrations.csv', 'r', newline='', encoding='utf-8') as reg_file:\n",
        "  reg_reader = csv.DictReader(reg_file, delimiter=';')\n",
        "\n",
        "  for row in reg_reader:\n",
        "        user_id = row['user_id']\n",
        "        reg_date = datetime.strptime(row['registration_date'], '%Y-%m-%d')\n",
        "        reg_info.append({'user_id': user_id, 'reg_date': reg_date})\n",
        "\n",
        "total_users = len(reg_info)\n",
        "\n",
        "# Ваше решение\n",
        "result = {}\n",
        "\n",
        "# сначала проходим по каждому пользователю и определяем его заход\n",
        "for i in reg_info:\n",
        "    user_id = i['user_id']\n",
        "    reg_date = i['reg_date']\n",
        "\n",
        "    # даты заходов пользователя\n",
        "    user_entries = set([entries['entry_date'] for entries in ent_info if entries['user_id'] == user_id])\n",
        "    user_entries = list(user_entries)\n",
        "    user_entries.sort()\n",
        "\n",
        "    # теперь считаем кол-во заходов на каждый день\n",
        "    for entry in user_entries:\n",
        "        days_diff = (entry - reg_date).days\n",
        "        if days_diff not in result:\n",
        "            result[days_diff] = 0\n",
        "        result[days_diff] += 1"
      ],
      "metadata": {
        "id": "KS17l5Ux0UD3"
      },
      "execution_count": 25,
      "outputs": []
    },
    {
      "cell_type": "code",
      "source": [
        "lifetime = 0\n",
        "# считаем n-day retention на каждый день\n",
        "for day, count in result.items():\n",
        "    retention = count / total_users\n",
        "    lifetime += retention\n",
        "\n",
        "lifetime = round(lifetime, 5)\n",
        "lifetime, total_users"
      ],
      "metadata": {
        "colab": {
          "base_uri": "https://localhost:8080/"
        },
        "id": "4cfEfsGFxPhR",
        "outputId": "df5d9f92-a874-4b19-da3b-c6e6e90218e1"
      },
      "execution_count": 26,
      "outputs": [
        {
          "output_type": "execute_result",
          "data": {
            "text/plain": [
              "(14.804, 1000)"
            ]
          },
          "metadata": {},
          "execution_count": 26
        }
      ]
    },
    {
      "cell_type": "code",
      "source": [
        "#@title ✏️ Проверка: чтобы проверить свое решение запустите код в этой ячейке\n",
        "correct_answer = float(answers[2])\n",
        "\n",
        "try:\n",
        "    assert lifetime == correct_answer\n",
        "except AssertionError:\n",
        "    print('Ответы не совпадают')\n",
        "else:\n",
        "    print('Поздравляем, Вы справились!')"
      ],
      "metadata": {
        "id": "k7s0V8hF0Vmx",
        "colab": {
          "base_uri": "https://localhost:8080/"
        },
        "outputId": "b81d3fb5-f52d-4be6-efe1-617e9a65e792"
      },
      "execution_count": 31,
      "outputs": [
        {
          "output_type": "stream",
          "name": "stdout",
          "text": [
            "Поздравляем, Вы справились!\n"
          ]
        }
      ]
    },
    {
      "cell_type": "markdown",
      "source": [
        "### **Посчитайте Churn rate 29 дня (в долях), посчитанный по всем пользователям**\n",
        "\n",
        "Сохраните результат в переменную `churn_29`"
      ],
      "metadata": {
        "id": "OrwoZ-wR0jJq"
      }
    },
    {
      "cell_type": "code",
      "source": [
        "# Ваше решение\n",
        "\n",
        "ottok = set()\n",
        "\n",
        "# сначала проходим по каждому пользователю и определяем его заход\n",
        "for i in reg_info:\n",
        "    user_id = i['user_id']\n",
        "    reg_date = i['reg_date']\n",
        "\n",
        "    # даты заходов пользователя\n",
        "    last_entry = max([entries['entry_date'] for entries in ent_info if entries['user_id'] == user_id])\n",
        "\n",
        "    # теперь считаем кол-во заходов на каждый день\n",
        "    if (last_entry - reg_date).days < 29:\n",
        "        ottok.add(user_id)\n",
        "\n",
        "churn_29 = len(ottok)/ total_users"
      ],
      "metadata": {
        "id": "hKN7vidq0mJ3"
      },
      "execution_count": null,
      "outputs": []
    },
    {
      "cell_type": "code",
      "source": [
        "#@title ✏️ Проверка: чтобы проверить свое решение запустите код в этой ячейке\n",
        "correct_answer = float(answers[3])\n",
        "\n",
        "try:\n",
        "    assert churn_29 == correct_answer\n",
        "except AssertionError:\n",
        "    print('Ответы не совпадают')\n",
        "else:\n",
        "    print('Поздравляем, Вы справились!')"
      ],
      "metadata": {
        "cellView": "form",
        "id": "14KnR1gD0ou9",
        "colab": {
          "base_uri": "https://localhost:8080/"
        },
        "outputId": "c22be993-fbce-4d49-b96a-6cbe9acca009"
      },
      "execution_count": null,
      "outputs": [
        {
          "output_type": "stream",
          "name": "stdout",
          "text": [
            "Поздравляем, Вы справились!\n"
          ]
        }
      ]
    },
    {
      "cell_type": "markdown",
      "source": [
        "### **Посчитайте Mau, Wau, Dau за последний месяц/неделю/день записей**\n",
        "\n",
        "Сохраните результат в переменные `dec_mau`, `dec_wau`, `dec_dau` соответственно\n",
        "\n",
        "**Примечание:** последний месяц записей - декабрь. Поэтому `mau` рассчитываем для декабря (2021 года), для `wau` берем последнюю неделю - с 25 по 31 декабря, и для `dau` соответственно последний день - 31 декабря."
      ],
      "metadata": {
        "id": "QuO3ZwRI5mdH"
      }
    },
    {
      "cell_type": "code",
      "source": [
        "# Ваше решени(е\n",
        "max_month = max(entry['entry_date'] for entry in ent_info).month\n",
        "\n",
        "month_users = set(item['user_id'] for item in ent_info if item['entry_date'].month == max_month)\n",
        "dec_mau = len(month_users)"
      ],
      "metadata": {
        "id": "HxGWkaSp5kpo"
      },
      "execution_count": 32,
      "outputs": []
    },
    {
      "cell_type": "code",
      "source": [
        "#@title ✏️ Проверка: чтобы проверить свое решение запустите код в этой ячейке\n",
        "correct_answer = float(answers[4])\n",
        "\n",
        "try:\n",
        "    assert dec_mau == correct_answer\n",
        "except AssertionError:\n",
        "    print('Ответы не совпадают')\n",
        "else:\n",
        "    print('Поздравляем, Вы справились!')"
      ],
      "metadata": {
        "id": "dpK4clbe5xiH",
        "colab": {
          "base_uri": "https://localhost:8080/"
        },
        "outputId": "601b44a4-0204-4bbd-9f39-3e5c46cc3185"
      },
      "execution_count": 33,
      "outputs": [
        {
          "output_type": "stream",
          "name": "stdout",
          "text": [
            "Поздравляем, Вы справились!\n"
          ]
        }
      ]
    },
    {
      "cell_type": "code",
      "source": [
        "# Ваше решение\n",
        "from datetime import datetime, timedelta\n",
        "\n",
        "max_day = max(entry['entry_date'] for entry in ent_info)\n",
        "min_day = max_day - timedelta(days=6)\n",
        "\n",
        "week_users = set(item['user_id'] for item in ent_info if min_day <= item['entry_date'] <= max_day )\n",
        "\n",
        "dec_wau = len(week_users)\n",
        "dec_wau"
      ],
      "metadata": {
        "id": "urEWcCuk522y",
        "colab": {
          "base_uri": "https://localhost:8080/"
        },
        "outputId": "cf981c7a-cd4f-464c-a528-193a96acf1c2"
      },
      "execution_count": 34,
      "outputs": [
        {
          "output_type": "execute_result",
          "data": {
            "text/plain": [
              "84"
            ]
          },
          "metadata": {},
          "execution_count": 34
        }
      ]
    },
    {
      "cell_type": "code",
      "source": [
        "#@title ✏️ Проверка: чтобы проверить свое решение запустите код в этой ячейке\n",
        "correct_answer = float(answers[5])\n",
        "\n",
        "try:\n",
        "    assert dec_wau == correct_answer\n",
        "except AssertionError:\n",
        "    print('Ответы не совпадают')\n",
        "else:\n",
        "    print('Поздравляем, Вы справились!')"
      ],
      "metadata": {
        "cellView": "form",
        "id": "xziXbjnJ549b",
        "colab": {
          "base_uri": "https://localhost:8080/"
        },
        "outputId": "7ce06d79-7a7e-4723-8504-8c9edeb2147d"
      },
      "execution_count": 35,
      "outputs": [
        {
          "output_type": "stream",
          "name": "stdout",
          "text": [
            "Поздравляем, Вы справились!\n"
          ]
        }
      ]
    },
    {
      "cell_type": "code",
      "source": [
        "# Ваше решение\n",
        "day_users = set(item['user_id'] for item in ent_info if item['entry_date'] == max_day )\n",
        "dec_dau = len(day_users)\n",
        "\n",
        "dec_dau"
      ],
      "metadata": {
        "id": "hv7Nz3TN59Ds",
        "colab": {
          "base_uri": "https://localhost:8080/"
        },
        "outputId": "11529378-3d78-4691-db0e-6f67ae028534"
      },
      "execution_count": 36,
      "outputs": [
        {
          "output_type": "execute_result",
          "data": {
            "text/plain": [
              "47"
            ]
          },
          "metadata": {},
          "execution_count": 36
        }
      ]
    },
    {
      "cell_type": "code",
      "source": [
        "#@title ✏️ Проверка: чтобы проверить свое решение запустите код в этой ячейке\n",
        "correct_answer = float(answers[6])\n",
        "\n",
        "try:\n",
        "    assert dec_dau == correct_answer\n",
        "except AssertionError:\n",
        "    print('Ответы не совпадают')\n",
        "else:\n",
        "    print('Поздравляем, Вы справились!')"
      ],
      "metadata": {
        "cellView": "form",
        "id": "1csOLxor5_ox",
        "colab": {
          "base_uri": "https://localhost:8080/"
        },
        "outputId": "608a5e9a-6b90-4ddf-8e20-c96030f83444"
      },
      "execution_count": 37,
      "outputs": [
        {
          "output_type": "stream",
          "name": "stdout",
          "text": [
            "Поздравляем, Вы справились!\n"
          ]
        }
      ]
    },
    {
      "cell_type": "markdown",
      "source": [
        "### **Посчитайте Mau, Wau, Dau усредненные**\n",
        "\n",
        "Сохраните результат в переменные `avg_mau`, `avg_wau`, `avg_dau` соответственно\n",
        "\n",
        "**Примечание:** результаты округлите до 5 знаков после запятой"
      ],
      "metadata": {
        "id": "gzElxXgv6Dyr"
      }
    },
    {
      "cell_type": "code",
      "source": [
        "# Ваше решение\n",
        "months = {1, 2, 3, 4, 5, 6, 7, 8, 9, 10, 11, 12}\n",
        "month_cnt = []\n",
        "for month in months:\n",
        "    count = len(set(item['user_id'] for item in ent_info if item['entry_date'].month == month))\n",
        "    month_cnt.append(count)\n",
        "\n",
        "avg_mau = round(sum(month_cnt)/len(month_cnt), 5)\n",
        "\n",
        "avg_mau"
      ],
      "metadata": {
        "id": "mUDYPPqx6RPr",
        "colab": {
          "base_uri": "https://localhost:8080/"
        },
        "outputId": "f66f9eee-afcc-4603-c9e2-c98f82e8a51e"
      },
      "execution_count": 38,
      "outputs": [
        {
          "output_type": "execute_result",
          "data": {
            "text/plain": [
              "102.58333"
            ]
          },
          "metadata": {},
          "execution_count": 38
        }
      ]
    },
    {
      "cell_type": "code",
      "source": [
        "#@title ✏️ Проверка: чтобы проверить свое решение запустите код в этой ячейке\n",
        "correct_answer = float(answers[7])\n",
        "\n",
        "try:\n",
        "    assert avg_mau == correct_answer\n",
        "except AssertionError:\n",
        "    print('Ответы не совпадают')\n",
        "else:\n",
        "    print('Поздравляем, Вы справились!')"
      ],
      "metadata": {
        "cellView": "form",
        "id": "CfikZaBu6V9_",
        "colab": {
          "base_uri": "https://localhost:8080/"
        },
        "outputId": "1de8db1e-59f2-4cb6-c804-f453bc33cfca"
      },
      "execution_count": 39,
      "outputs": [
        {
          "output_type": "stream",
          "name": "stdout",
          "text": [
            "Поздравляем, Вы справились!\n"
          ]
        }
      ]
    },
    {
      "cell_type": "code",
      "source": [
        "# Ваше решение\n",
        "first_day = min(entry['entry_date'] for entry in ent_info)\n",
        "last_day = max(entry['entry_date'] for entry in ent_info)\n",
        "\n",
        "first_week_day = first_day.weekday()\n",
        "\n",
        "if first_week_day == 1:\n",
        "    current_day = first_day\n",
        "else:\n",
        "    days_to_monday = (0 - first_day.weekday()) % 7\n",
        "    current_day = (first_day + timedelta(days=days_to_monday)) - timedelta(days=7)\n",
        "\n",
        "weeks_report = {}\n",
        "\n",
        "while current_day <= last_day:\n",
        "    week_end = current_day + timedelta(days=6)\n",
        "    count = len(set(item['user_id'] for item in ent_info if current_day <= item['entry_date'] <= week_end))\n",
        "    weeks_report[f'{current_day} - {week_end}'] = count\n",
        "    current_day = week_end + timedelta(days=1)\n",
        "\n",
        "avg_wau = round(sum(weeks_report.values()) / len(weeks_report), 5)\n",
        "avg_wau"
      ],
      "metadata": {
        "id": "WydV9g9C6x7O",
        "colab": {
          "base_uri": "https://localhost:8080/"
        },
        "outputId": "e8900168-09a1-47ac-871b-9ab16865968b"
      },
      "execution_count": 40,
      "outputs": [
        {
          "output_type": "execute_result",
          "data": {
            "text/plain": [
              "89.86792"
            ]
          },
          "metadata": {},
          "execution_count": 40
        }
      ]
    },
    {
      "cell_type": "code",
      "source": [
        "#@title ✏️ Проверка: чтобы проверить свое решение запустите код в этой ячейке\n",
        "correct_answer = float(answers[8])\n",
        "\n",
        "try:\n",
        "    assert avg_wau == correct_answer\n",
        "except AssertionError:\n",
        "    print('Ответы не совпадают')\n",
        "else:\n",
        "    print('Поздравляем, Вы справились!')"
      ],
      "metadata": {
        "cellView": "form",
        "id": "qbZgzDpV6zUl",
        "colab": {
          "base_uri": "https://localhost:8080/"
        },
        "outputId": "777161ab-aa89-4f62-fbea-ba297af5eaa6"
      },
      "execution_count": 41,
      "outputs": [
        {
          "output_type": "stream",
          "name": "stdout",
          "text": [
            "Поздравляем, Вы справились!\n"
          ]
        }
      ]
    },
    {
      "cell_type": "code",
      "source": [
        "# Ваше решение\n",
        "entries = set(item['entry_date'] for item in ent_info)\n",
        "\n",
        "days_report = {}\n",
        "\n",
        "for entry in entries:\n",
        "    count = len(set(i['user_id'] for i in ent_info if i['entry_date'] == entry))\n",
        "    days_report[f'{entry}'] = count\n",
        "\n",
        "avg_dau = round(sum(days_report.values()) / len(days_report), 5)\n",
        "avg_dau"
      ],
      "metadata": {
        "id": "NgqOR38d64_T",
        "colab": {
          "base_uri": "https://localhost:8080/"
        },
        "outputId": "bd34d2d4-4985-4adc-dec6-82d0d9d95942"
      },
      "execution_count": 42,
      "outputs": [
        {
          "output_type": "execute_result",
          "data": {
            "text/plain": [
              "40.5589"
            ]
          },
          "metadata": {},
          "execution_count": 42
        }
      ]
    },
    {
      "cell_type": "code",
      "source": [
        "#@title ✏️ Проверка: чтобы проверить свое решение запустите код в этой ячейке\n",
        "correct_answer = float(answers[9])\n",
        "\n",
        "try:\n",
        "    assert avg_dau == correct_answer\n",
        "except AssertionError:\n",
        "    print('Ответы не совпадают')\n",
        "else:\n",
        "    print('Поздравляем, Вы справились!')"
      ],
      "metadata": {
        "id": "TbmDR4NP66qm",
        "colab": {
          "base_uri": "https://localhost:8080/"
        },
        "outputId": "91222ad4-0025-4bef-c527-a92ffba355bb"
      },
      "execution_count": 43,
      "outputs": [
        {
          "output_type": "stream",
          "name": "stdout",
          "text": [
            "Поздравляем, Вы справились!\n"
          ]
        }
      ]
    },
    {
      "cell_type": "code",
      "source": [],
      "metadata": {
        "id": "GnwZ7diiuBr2"
      },
      "execution_count": null,
      "outputs": []
    }
  ]
}