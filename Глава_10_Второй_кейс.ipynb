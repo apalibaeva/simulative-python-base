{
  "nbformat": 4,
  "nbformat_minor": 0,
  "metadata": {
    "colab": {
      "provenance": [],
      "include_colab_link": true
    },
    "kernelspec": {
      "name": "python3",
      "display_name": "Python 3"
    },
    "language_info": {
      "name": "python"
    }
  },
  "cells": [
    {
      "cell_type": "markdown",
      "metadata": {
        "id": "view-in-github",
        "colab_type": "text"
      },
      "source": [
        "<a href=\"https://colab.research.google.com/github/apalibaeva/simulative-python-base/blob/main/%D0%93%D0%BB%D0%B0%D0%B2%D0%B0_10_%D0%92%D1%82%D0%BE%D1%80%D0%BE%D0%B9_%D0%BA%D0%B5%D0%B9%D1%81.ipynb\" target=\"_parent\"><img src=\"https://colab.research.google.com/assets/colab-badge.svg\" alt=\"Open In Colab\"/></a>"
      ]
    },
    {
      "cell_type": "markdown",
      "source": [
        "## 2 кейс\n",
        "\n",
        "**Соберите данные из Google Sheets и напишите функцию `generate_report`, которая принимает три списка (данные с каждого листа в Google Sheets) и сохраняет отчет в файл `student_debt_report.txt`**"
      ],
      "metadata": {
        "id": "kilnMAFvwPlm"
      }
    },
    {
      "cell_type": "markdown",
      "source": [
        "**Важно**\n",
        "\n",
        "Перед началом решения задачи выполните следующую ячейку - в ней скачиваются нужные файлы"
      ],
      "metadata": {
        "id": "Ese_hT_YwxHw"
      }
    },
    {
      "cell_type": "code",
      "execution_count": 3,
      "metadata": {
        "id": "84h9WDU8ngRf",
        "colab": {
          "base_uri": "https://localhost:8080/"
        },
        "outputId": "93f9e82d-b5f7-44f5-c175-e45f519569fa"
      },
      "outputs": [
        {
          "output_type": "stream",
          "name": "stdout",
          "text": [
            "--2024-10-18 12:01:07--  https://gist.github.com/Vs8th/d0bd4bdbbb58c8ae4f70a2a503e2d5fc/raw/creds.json\n",
            "Resolving gist.github.com (gist.github.com)... 140.82.112.3\n",
            "Connecting to gist.github.com (gist.github.com)|140.82.112.3|:443... connected.\n",
            "HTTP request sent, awaiting response... 301 Moved Permanently\n",
            "Location: https://gist.githubusercontent.com/Vs8th/d0bd4bdbbb58c8ae4f70a2a503e2d5fc/raw/creds.json [following]\n",
            "--2024-10-18 12:01:07--  https://gist.githubusercontent.com/Vs8th/d0bd4bdbbb58c8ae4f70a2a503e2d5fc/raw/creds.json\n",
            "Resolving gist.githubusercontent.com (gist.githubusercontent.com)... 185.199.108.133, 185.199.109.133, 185.199.110.133, ...\n",
            "Connecting to gist.githubusercontent.com (gist.githubusercontent.com)|185.199.108.133|:443... connected.\n",
            "HTTP request sent, awaiting response... 200 OK\n",
            "Length: 2358 (2.3K) [text/plain]\n",
            "Saving to: ‘creds.json’\n",
            "\n",
            "creds.json          100%[===================>]   2.30K  --.-KB/s    in 0s      \n",
            "\n",
            "2024-10-18 12:01:07 (33.8 MB/s) - ‘creds.json’ saved [2358/2358]\n",
            "\n",
            "--2024-10-18 12:01:07--  https://gist.github.com/Vs8th/39c5deed0f5539d781f00328f7fd4fe0/raw/result.txt\n",
            "Resolving gist.github.com (gist.github.com)... 140.82.112.3\n",
            "Connecting to gist.github.com (gist.github.com)|140.82.112.3|:443... connected.\n",
            "HTTP request sent, awaiting response... 301 Moved Permanently\n",
            "Location: https://gist.githubusercontent.com/Vs8th/39c5deed0f5539d781f00328f7fd4fe0/raw/result.txt [following]\n",
            "--2024-10-18 12:01:07--  https://gist.githubusercontent.com/Vs8th/39c5deed0f5539d781f00328f7fd4fe0/raw/result.txt\n",
            "Resolving gist.githubusercontent.com (gist.githubusercontent.com)... 185.199.108.133, 185.199.109.133, 185.199.110.133, ...\n",
            "Connecting to gist.githubusercontent.com (gist.githubusercontent.com)|185.199.108.133|:443... connected.\n",
            "HTTP request sent, awaiting response... 200 OK\n",
            "Length: 198 [text/plain]\n",
            "Saving to: ‘result.txt’\n",
            "\n",
            "result.txt          100%[===================>]     198  --.-KB/s    in 0s      \n",
            "\n",
            "2024-10-18 12:01:07 (9.91 MB/s) - ‘result.txt’ saved [198/198]\n",
            "\n"
          ]
        }
      ],
      "source": [
        "!wget https://gist.github.com/Vs8th/d0bd4bdbbb58c8ae4f70a2a503e2d5fc/raw/creds.json\n",
        "\n",
        "!wget https://gist.github.com/Vs8th/39c5deed0f5539d781f00328f7fd4fe0/raw/result.txt"
      ]
    },
    {
      "cell_type": "markdown",
      "source": [
        "Чтобы посмотреть как выглядят сами гугл таблицы в оригинале - можете перейти по [ссылке](https://docs.google.com/spreadsheets/d/1hRnw-PEftF0J-6KY7InlILVwWdkJu4vJiGwRjuE_P4U/edit?usp=sharing) и изучить."
      ],
      "metadata": {
        "id": "4DrLBsjgxAEA"
      }
    },
    {
      "cell_type": "markdown",
      "source": [
        "Как примерно должен выглядеть результат:"
      ],
      "metadata": {
        "id": "DzT-pVSOxDKF"
      }
    },
    {
      "cell_type": "code",
      "source": [
        "with open('result.txt') as f:\n",
        "  print(f.read())"
      ],
      "metadata": {
        "id": "yvYYOXrBxChi",
        "colab": {
          "base_uri": "https://localhost:8080/"
        },
        "outputId": "021c6079-3a13-453c-bf91-421b2dc0b4a1"
      },
      "execution_count": 4,
      "outputs": [
        {
          "output_type": "stream",
          "name": "stdout",
          "text": [
            "Студент Иванов У.У. - долг 100000 рублей\n",
            "Студент Петров Е.Е. - долг 250000 рублей\n",
            "Студент Сидоров И.И. - долг 10000 рублей\n"
          ]
        }
      ]
    },
    {
      "cell_type": "code",
      "source": [
        "#@title Если возникнут трудности с определением `scope`, подсказка:\n",
        "\n",
        "scope = ['https://www.googleapis.com/auth/spreadsheets.readonly',\n",
        "         'https://www.googleapis.com/auth/drive']"
      ],
      "metadata": {
        "id": "SOZfpY8OnJGl"
      },
      "execution_count": 5,
      "outputs": []
    },
    {
      "cell_type": "markdown",
      "source": [],
      "metadata": {
        "id": "RgZZnZ2p70d1"
      }
    },
    {
      "cell_type": "markdown",
      "source": [
        "**Примечание**\n",
        "\n",
        "Считать должников необходимо на 1 марта 2023 года. То есть определяя количество просроченных платежей, мы определяем их количество не на настоящую дату, а на **1 марта 2023 года**. А периоды внесения платежей для всех студентов одинаковы - **6 месяцев**.\n",
        "\n",
        "То есть, если ожидаемый платеж должен был пройти 3 февраля 2022 года, то к 1 марта 2023 студент просрочил уже три платежа (3 февраля 2022, 3 августа 2022 и 3 февраля 2023)."
      ],
      "metadata": {
        "id": "gJh58XYTk181"
      }
    },
    {
      "cell_type": "markdown",
      "source": [
        "**Решение**\n",
        "\n",
        "Напишите свое решение ниже"
      ],
      "metadata": {
        "id": "zvpm-3CmxH5l"
      }
    },
    {
      "cell_type": "code",
      "source": [
        "import gspread, pprint\n",
        "from oauth2client.service_account import ServiceAccountCredentials\n",
        "from datetime import datetime\n",
        "\n",
        "def generate_report(sheet1, sheet2, sheet3):\n",
        "  # Указываем необходимые права доступа к таблицам\n",
        "  scope = ['https://www.googleapis.com/auth/spreadsheets.readonly',\n",
        "         'https://www.googleapis.com/auth/drive']\n",
        "\n",
        "  # Загружаем ключи аутентификации из файла json\n",
        "  creds = ServiceAccountCredentials.from_json_keyfile_name('creds.json', scope)\n",
        "\n",
        "  # Авторизуемся в Google Sheets API\n",
        "  client = gspread.authorize(creds)\n",
        "\n",
        "  #получаем информацию с каждого листа\n",
        "  sheet1_open = client.open(\"Installments\").worksheet(sheet1)\n",
        "  sheet2_open = client.open(\"Installments\").worksheet(sheet2)\n",
        "  sheet3_open = client.open(\"Installments\").worksheet(sheet3)\n",
        "\n",
        "  sheet1_data = sheet1_open.get_all_records()\n",
        "  sheet2_data = sheet2_open.get_all_records()\n",
        "  sheet3_data = sheet3_open.get_all_records()\n",
        "\n",
        "  #отбираем только тех студентов, у кого оформлена рассрочка(из первого листа)\n",
        "  students_info = []\n",
        "\n",
        "  for row in sheet1_data:\n",
        "    if row['installment'] == 'Y':\n",
        "      students_info.append(row)\n",
        "\n",
        "  #считаем долг по каждому студенту\n",
        "  students_debts = []\n",
        "\n",
        "  for r1, r2, r3 in zip(students_info, sheet2_data, sheet3_data):\n",
        "    exp_date = datetime.strptime(r2['expected_payment_date'], '%d.%m.%Y')\n",
        "    last_day = datetime.strptime('01.03.2023', '%d.%m.%Y')\n",
        "    if exp_date <= last_day: #если дата следующей оплаты еще не наступила на 01.03.2024\n",
        "      payments_cnt = (last_day - exp_date).days // 183 + 1 #считаю сколько в общем платежей должно было быть у студента\n",
        "      debt = r3['one-time_payment'] * payments_cnt if r3['one-time_payment'] * payments_cnt < r3['left_to_pay'] else r3['left_to_pay']\n",
        "      students_debts.append({'student_id': r1['student_id'], 'debt': debt, 'student_name': r1['student_name']})\n",
        "      print({'student_id': r1['student_id'], 'debt': debt, 'student_name': r1['student_name']})\n",
        "\n",
        "  #далее записываем полученную информацию в массив в нужном формате\n",
        "  check = []\n",
        "  for el in students_debts:\n",
        "    if el['debt'] > 0:\n",
        "      name = el['student_name']\n",
        "      debt = el['debt']\n",
        "      if students_debts.index(el) == len(students_debts) - 1:\n",
        "        check.append(f'Студент {name} - долг {debt} рублей')\n",
        "      else:\n",
        "        check.append(f'Студент {name} - долг {debt} рублей\\n')\n",
        "\n",
        "  #записываем информацию в текстовый файл\n",
        "  with open('student_debt_report.txt', 'w') as f:\n",
        "    for i in check:\n",
        "      f.write(i)"
      ],
      "metadata": {
        "id": "CFDewPXwxLoX"
      },
      "execution_count": 17,
      "outputs": []
    },
    {
      "cell_type": "code",
      "source": [
        "generate_report('Лист1', 'Лист2', 'Лист3')"
      ],
      "metadata": {
        "colab": {
          "base_uri": "https://localhost:8080/"
        },
        "id": "B4KKi5fZhxOo",
        "outputId": "2e148af8-0896-4856-9d30-fc44f5857703"
      },
      "execution_count": 18,
      "outputs": [
        {
          "output_type": "stream",
          "name": "stdout",
          "text": [
            "{'student_id': 2, 'debt': 266666, 'student_name': 'Кузнецова К.А.'}\n",
            "{'student_id': 3, 'debt': 66666, 'student_name': 'Петров К.А.'}\n",
            "{'student_id': 6, 'debt': 100000, 'student_name': 'Иванов А.А.'}\n",
            "{'student_id': 10, 'debt': 116666, 'student_name': 'Иванов П.П.'}\n",
            "{'student_id': 12, 'debt': 116666, 'student_name': 'Петров И.И.'}\n",
            "{'student_id': 13, 'debt': 16666, 'student_name': 'Петров А.А.'}\n",
            "{'student_id': 14, 'debt': 41666, 'student_name': 'Иванов Е.В.'}\n",
            "{'student_id': 15, 'debt': 100000, 'student_name': 'Николаева Е.В.'}\n",
            "{'student_id': 18, 'debt': 233333, 'student_name': 'Смирнова Е.В.'}\n",
            "{'student_id': 21, 'debt': 33332, 'student_name': 'Николаева М.А.'}\n",
            "{'student_id': 22, 'debt': 133332, 'student_name': 'Кузнецова А.А.'}\n",
            "{'student_id': 23, 'debt': 25000, 'student_name': 'Иванов А.А.'}\n",
            "{'student_id': 25, 'debt': 133332, 'student_name': 'Петров И.И.'}\n",
            "{'student_id': 28, 'debt': 133333, 'student_name': 'Кузнецова К.А.'}\n",
            "{'student_id': 30, 'debt': 66666, 'student_name': 'Кузнецова Е.В.'}\n",
            "{'student_id': 34, 'debt': 83333, 'student_name': 'Сидоров И.И.'}\n",
            "{'student_id': 36, 'debt': 16666, 'student_name': 'Петров И.И.'}\n",
            "{'student_id': 43, 'debt': 233333, 'student_name': 'Кузнецова И.И.'}\n",
            "{'student_id': 44, 'debt': 266666, 'student_name': 'Иванов А.А.'}\n",
            "{'student_id': 45, 'debt': 266666, 'student_name': 'Сидоров К.А.'}\n",
            "{'student_id': 51, 'debt': 200000, 'student_name': 'Смирнова И.И.'}\n",
            "{'student_id': 53, 'debt': 166666, 'student_name': 'Сидоров М.А.'}\n",
            "{'student_id': 55, 'debt': 33333, 'student_name': 'Сидоров Е.В.'}\n",
            "{'student_id': 61, 'debt': 100000, 'student_name': 'Иванов Е.В.'}\n",
            "{'student_id': 68, 'debt': 100000, 'student_name': 'Иванов К.А.'}\n",
            "{'student_id': 69, 'debt': 166666, 'student_name': 'Николаева К.А.'}\n",
            "{'student_id': 73, 'debt': 83333, 'student_name': 'Николаева А.А.'}\n",
            "{'student_id': 80, 'debt': 133332, 'student_name': 'Сидоров А.А.'}\n",
            "{'student_id': 81, 'debt': 66666, 'student_name': 'Николаева Е.В.'}\n",
            "{'student_id': 84, 'debt': 166666, 'student_name': 'Смирнова П.П.'}\n",
            "{'student_id': 86, 'debt': 100000, 'student_name': 'Сидоров П.П.'}\n",
            "{'student_id': 90, 'debt': 75000, 'student_name': 'Смирнова М.А.'}\n",
            "{'student_id': 92, 'debt': 16666, 'student_name': 'Сидоров П.П.'}\n",
            "{'student_id': 93, 'debt': 100000, 'student_name': 'Сидоров К.А.'}\n",
            "{'student_id': 95, 'debt': 200000, 'student_name': 'Николаева К.А.'}\n",
            "{'student_id': 97, 'debt': 233332, 'student_name': 'Сидоров Е.В.'}\n",
            "{'student_id': 103, 'debt': 100000, 'student_name': 'Смирнова Е.В.'}\n",
            "{'student_id': 105, 'debt': 629656, 'student_name': 'Сидоров А.А.'}\n",
            "{'student_id': 116, 'debt': 233332, 'student_name': 'Сидоров А.А.'}\n",
            "{'student_id': 117, 'debt': 25000, 'student_name': 'Иванов Е.В.'}\n",
            "{'student_id': 118, 'debt': 200000, 'student_name': 'Смирнова П.П.'}\n",
            "{'student_id': 119, 'debt': 66666, 'student_name': 'Иванов М.А.'}\n",
            "{'student_id': 122, 'debt': 41666, 'student_name': 'Иванов К.А.'}\n",
            "{'student_id': 123, 'debt': 150000, 'student_name': 'Николаева Е.В.'}\n",
            "{'student_id': 130, 'debt': 133332, 'student_name': 'Петров И.И.'}\n",
            "{'student_id': 133, 'debt': 58333, 'student_name': 'Кузнецова Е.В.'}\n",
            "{'student_id': 138, 'debt': 66666, 'student_name': 'Петров А.А.'}\n",
            "{'student_id': 140, 'debt': 100000, 'student_name': 'Сидоров А.А.'}\n",
            "{'student_id': 141, 'debt': 266666, 'student_name': 'Сидоров Е.В.'}\n",
            "{'student_id': 152, 'debt': 66666, 'student_name': 'Иванов А.А.'}\n",
            "{'student_id': 156, 'debt': 50000, 'student_name': 'Сидоров П.П.'}\n",
            "{'student_id': 162, 'debt': 75000, 'student_name': 'Смирнова М.А.'}\n",
            "{'student_id': 169, 'debt': 66666, 'student_name': 'Сидоров А.А.'}\n",
            "{'student_id': 174, 'debt': 266666, 'student_name': 'Смирнова П.П.'}\n",
            "{'student_id': 177, 'debt': 166666, 'student_name': 'Иванов П.П.'}\n",
            "{'student_id': 178, 'debt': 116666, 'student_name': 'Петров П.П.'}\n",
            "{'student_id': 179, 'debt': 33333, 'student_name': 'Петров М.А.'}\n",
            "{'student_id': 180, 'debt': 315984, 'student_name': 'Сидоров К.А.'}\n",
            "{'student_id': 181, 'debt': 100000, 'student_name': 'Сидоров И.И.'}\n",
            "{'student_id': 182, 'debt': 100000, 'student_name': 'Сидоров И.И.'}\n",
            "{'student_id': 183, 'debt': 116666, 'student_name': 'Кузнецова М.А.'}\n",
            "{'student_id': 188, 'debt': 83333, 'student_name': 'Иванов М.А.'}\n",
            "{'student_id': 194, 'debt': 16666, 'student_name': 'Иванов П.П.'}\n",
            "{'student_id': 195, 'debt': 133333, 'student_name': 'Кузнецова М.А.'}\n",
            "{'student_id': 196, 'debt': 66666, 'student_name': 'Сидоров М.А.'}\n",
            "{'student_id': 197, 'debt': 66666, 'student_name': 'Кузнецова Е.В.'}\n",
            "{'student_id': 198, 'debt': 83333, 'student_name': 'Смирнова К.А.'}\n",
            "{'student_id': 199, 'debt': 100000, 'student_name': 'Кузнецова П.П.'}\n",
            "{'student_id': 204, 'debt': 58333, 'student_name': 'Кузнецова К.А.'}\n",
            "{'student_id': 205, 'debt': 75000, 'student_name': 'Николаева К.А.'}\n",
            "{'student_id': 207, 'debt': 100000, 'student_name': 'Кузнецова К.А.'}\n",
            "{'student_id': 210, 'debt': 58333, 'student_name': 'Иванов П.П.'}\n",
            "{'student_id': 213, 'debt': 166666, 'student_name': 'Петров П.П.'}\n",
            "{'student_id': 215, 'debt': 33333, 'student_name': 'Сидоров П.П.'}\n",
            "{'student_id': 216, 'debt': 50000, 'student_name': 'Кузнецова П.П.'}\n",
            "{'student_id': 223, 'debt': 272189, 'student_name': 'Иванов К.А.'}\n",
            "{'student_id': 224, 'debt': 133332, 'student_name': 'Петров А.А.'}\n",
            "{'student_id': 225, 'debt': 200000, 'student_name': 'Петров К.А.'}\n",
            "{'student_id': 226, 'debt': 25000, 'student_name': 'Сидоров Е.В.'}\n",
            "{'student_id': 227, 'debt': 333332, 'student_name': 'Николаева П.П.'}\n",
            "{'student_id': 229, 'debt': 33333, 'student_name': 'Петров П.П.'}\n",
            "{'student_id': 230, 'debt': 133333, 'student_name': 'Петров А.А.'}\n",
            "{'student_id': 232, 'debt': 33333, 'student_name': 'Иванов П.П.'}\n",
            "{'student_id': 234, 'debt': 133332, 'student_name': 'Кузнецова Е.В.'}\n",
            "{'student_id': 235, 'debt': 100000, 'student_name': 'Смирнова М.А.'}\n",
            "{'student_id': 237, 'debt': 83333, 'student_name': 'Смирнова И.И.'}\n",
            "{'student_id': 239, 'debt': 166666, 'student_name': 'Иванов И.И.'}\n",
            "{'student_id': 241, 'debt': 233333, 'student_name': 'Петров И.И.'}\n",
            "{'student_id': 242, 'debt': 16666, 'student_name': 'Кузнецова И.И.'}\n",
            "{'student_id': 251, 'debt': 16666, 'student_name': 'Иванов И.И.'}\n",
            "{'student_id': 254, 'debt': 233333, 'student_name': 'Смирнова К.А.'}\n",
            "{'student_id': 259, 'debt': 41666, 'student_name': 'Иванов М.А.'}\n",
            "{'student_id': 267, 'debt': 528435, 'student_name': 'Сидоров А.А.'}\n",
            "{'student_id': 272, 'debt': 166666, 'student_name': 'Иванов М.А.'}\n",
            "{'student_id': 280, 'debt': 25000, 'student_name': 'Николаева П.П.'}\n",
            "{'student_id': 282, 'debt': 166666, 'student_name': 'Сидоров Е.В.'}\n",
            "{'student_id': 287, 'debt': 25000, 'student_name': 'Кузнецова К.А.'}\n",
            "{'student_id': 294, 'debt': 116666, 'student_name': 'Петров П.П.'}\n",
            "{'student_id': 298, 'debt': 600000, 'student_name': 'Иванов П.П.'}\n",
            "{'student_id': 300, 'debt': 33333, 'student_name': 'Николаева А.А.'}\n",
            "{'student_id': 301, 'debt': 83333, 'student_name': 'Петров И.И.'}\n",
            "{'student_id': 308, 'debt': 16666, 'student_name': 'Смирнова Е.В.'}\n",
            "{'student_id': 313, 'debt': 83333, 'student_name': 'Петров А.А.'}\n",
            "{'student_id': 317, 'debt': 8333, 'student_name': 'Кузнецова П.П.'}\n",
            "{'student_id': 319, 'debt': 50000, 'student_name': 'Николаева А.А.'}\n",
            "{'student_id': 324, 'debt': 333332, 'student_name': 'Петров М.А.'}\n",
            "{'student_id': 326, 'debt': 83333, 'student_name': 'Сидоров Е.В.'}\n",
            "{'student_id': 330, 'debt': 50000, 'student_name': 'Иванов М.А.'}\n",
            "{'student_id': 332, 'debt': 33333, 'student_name': 'Сидоров П.П.'}\n",
            "{'student_id': 333, 'debt': 75000, 'student_name': 'Петров М.А.'}\n",
            "{'student_id': 334, 'debt': 100000, 'student_name': 'Петров П.П.'}\n",
            "{'student_id': 336, 'debt': 253969, 'student_name': 'Петров И.И.'}\n",
            "{'student_id': 344, 'debt': 133333, 'student_name': 'Сидоров А.А.'}\n",
            "{'student_id': 351, 'debt': 266666, 'student_name': 'Николаева И.И.'}\n",
            "{'student_id': 353, 'debt': 150000, 'student_name': 'Петров К.А.'}\n",
            "{'student_id': 357, 'debt': 8333, 'student_name': 'Николаева К.А.'}\n",
            "{'student_id': 358, 'debt': 50000, 'student_name': 'Петров К.А.'}\n",
            "{'student_id': 365, 'debt': 16666, 'student_name': 'Николаева К.А.'}\n",
            "{'student_id': 371, 'debt': 333332, 'student_name': 'Петров К.А.'}\n",
            "{'student_id': 372, 'debt': 133333, 'student_name': 'Петров А.А.'}\n",
            "{'student_id': 373, 'debt': 83333, 'student_name': 'Смирнова М.А.'}\n",
            "{'student_id': 375, 'debt': 133333, 'student_name': 'Николаева И.И.'}\n",
            "{'student_id': 376, 'debt': 41666, 'student_name': 'Сидоров Е.В.'}\n",
            "{'student_id': 377, 'debt': 333333, 'student_name': 'Николаева М.А.'}\n",
            "{'student_id': 379, 'debt': 200000, 'student_name': 'Сидоров А.А.'}\n",
            "{'student_id': 380, 'debt': 300000, 'student_name': 'Николаева А.А.'}\n",
            "{'student_id': 381, 'debt': 166666, 'student_name': 'Петров И.И.'}\n",
            "{'student_id': 385, 'debt': 333332, 'student_name': 'Петров К.А.'}\n",
            "{'student_id': 390, 'debt': 83333, 'student_name': 'Кузнецова Е.В.'}\n",
            "{'student_id': 391, 'debt': 58333, 'student_name': 'Николаева К.А.'}\n",
            "{'student_id': 392, 'debt': 166666, 'student_name': 'Кузнецова М.А.'}\n",
            "{'student_id': 394, 'debt': 133333, 'student_name': 'Петров Е.В.'}\n",
            "{'student_id': 396, 'debt': 41666, 'student_name': 'Смирнова П.П.'}\n",
            "{'student_id': 398, 'debt': 266666, 'student_name': 'Николаева А.А.'}\n",
            "{'student_id': 400, 'debt': 16666, 'student_name': 'Кузнецова Е.В.'}\n",
            "{'student_id': 406, 'debt': 66666, 'student_name': 'Николаева М.А.'}\n",
            "{'student_id': 408, 'debt': 58333, 'student_name': 'Петров К.А.'}\n",
            "{'student_id': 409, 'debt': 50000, 'student_name': 'Иванов И.И.'}\n",
            "{'student_id': 413, 'debt': 300000, 'student_name': 'Николаева М.А.'}\n",
            "{'student_id': 420, 'debt': 100000, 'student_name': 'Сидоров М.А.'}\n",
            "{'student_id': 422, 'debt': 116666, 'student_name': 'Кузнецова Е.В.'}\n",
            "{'student_id': 425, 'debt': 133332, 'student_name': 'Николаева К.А.'}\n",
            "{'student_id': 426, 'debt': 83332, 'student_name': 'Сидоров И.И.'}\n",
            "{'student_id': 429, 'debt': 8333, 'student_name': 'Петров А.А.'}\n",
            "{'student_id': 433, 'debt': 400000, 'student_name': 'Смирнова Е.В.'}\n",
            "{'student_id': 436, 'debt': 83333, 'student_name': 'Иванов П.П.'}\n",
            "{'student_id': 438, 'debt': 166666, 'student_name': 'Иванов М.А.'}\n",
            "{'student_id': 444, 'debt': 300000, 'student_name': 'Иванов А.А.'}\n",
            "{'student_id': 447, 'debt': 533332, 'student_name': 'Кузнецова А.А.'}\n",
            "{'student_id': 449, 'debt': 66666, 'student_name': 'Кузнецова Е.В.'}\n",
            "{'student_id': 450, 'debt': 83332, 'student_name': 'Кузнецова А.А.'}\n",
            "{'student_id': 453, 'debt': 50000, 'student_name': 'Петров К.А.'}\n",
            "{'student_id': 454, 'debt': 100000, 'student_name': 'Кузнецова М.А.'}\n",
            "{'student_id': 465, 'debt': 333333, 'student_name': 'Сидоров И.И.'}\n",
            "{'student_id': 466, 'debt': 16666, 'student_name': 'Николаева П.П.'}\n",
            "{'student_id': 467, 'debt': 600000, 'student_name': 'Сидоров Е.В.'}\n",
            "{'student_id': 471, 'debt': 200000, 'student_name': 'Иванов М.А.'}\n",
            "{'student_id': 472, 'debt': 100000, 'student_name': 'Николаева А.А.'}\n",
            "{'student_id': 473, 'debt': 166666, 'student_name': 'Сидоров А.А.'}\n",
            "{'student_id': 474, 'debt': 666666, 'student_name': 'Сидоров П.П.'}\n",
            "{'student_id': 480, 'debt': 133333, 'student_name': 'Смирнова К.А.'}\n",
            "{'student_id': 483, 'debt': 266666, 'student_name': 'Сидоров А.А.'}\n",
            "{'student_id': 490, 'debt': 25000, 'student_name': 'Иванов М.А.'}\n",
            "{'student_id': 494, 'debt': 387227, 'student_name': 'Иванов М.А.'}\n",
            "{'student_id': 495, 'debt': 33333, 'student_name': 'Николаева М.А.'}\n",
            "{'student_id': 499, 'debt': 333333, 'student_name': 'Сидоров П.П.'}\n"
          ]
        }
      ]
    },
    {
      "cell_type": "code",
      "source": [
        "with open('student_debt_report.txt', 'r') as f:\n",
        "  data1 = f.readlines()\n",
        "\n",
        "\n",
        "with open('student_debt.txt', 'r') as f:\n",
        "  data2 = f.readlines()\n"
      ],
      "metadata": {
        "id": "IeV82DUkX-G1"
      },
      "execution_count": 19,
      "outputs": []
    },
    {
      "cell_type": "code",
      "source": [
        "for i, j in zip(data1, data2):\n",
        "  if i != j:\n",
        "    print('My: ', i, '\\nTheir: ', j)"
      ],
      "metadata": {
        "id": "flsNMDLTmSXV"
      },
      "execution_count": 20,
      "outputs": []
    },
    {
      "cell_type": "markdown",
      "source": [
        "✏️ ✏️ ✏️\n",
        "\n",
        "**Проверка**\n",
        "\n",
        "Чтобы проверить свое решение, запустите код в следующих ячейках"
      ],
      "metadata": {
        "id": "VSZxSfjWxeZr"
      }
    },
    {
      "cell_type": "code",
      "source": [
        "# Здесь будет скачиваться файл с эталонным ответом\n",
        "\n",
        "!wget https://gist.github.com/Vs8th/63832f093f4db8d8b251ba5d39571f3d/raw/student_debt.txt\n",
        "\n",
        "import pandas as pd\n",
        "\n",
        "user_answer = pd.read_csv('student_debt_report.txt')\n",
        "correct_answer = pd.read_csv('student_debt.txt')"
      ],
      "metadata": {
        "id": "nbDL6rllxe4X",
        "colab": {
          "base_uri": "https://localhost:8080/"
        },
        "outputId": "1553527e-a5ac-45b1-c703-b4c1329c6568"
      },
      "execution_count": 21,
      "outputs": [
        {
          "output_type": "stream",
          "name": "stdout",
          "text": [
            "--2024-10-18 12:04:00--  https://gist.github.com/Vs8th/63832f093f4db8d8b251ba5d39571f3d/raw/student_debt.txt\n",
            "Resolving gist.github.com (gist.github.com)... 140.82.113.3\n",
            "Connecting to gist.github.com (gist.github.com)|140.82.113.3|:443... connected.\n",
            "HTTP request sent, awaiting response... 301 Moved Permanently\n",
            "Location: https://gist.githubusercontent.com/Vs8th/63832f093f4db8d8b251ba5d39571f3d/raw/student_debt.txt [following]\n",
            "--2024-10-18 12:04:00--  https://gist.githubusercontent.com/Vs8th/63832f093f4db8d8b251ba5d39571f3d/raw/student_debt.txt\n",
            "Resolving gist.githubusercontent.com (gist.githubusercontent.com)... 185.199.108.133, 185.199.109.133, 185.199.110.133, ...\n",
            "Connecting to gist.githubusercontent.com (gist.githubusercontent.com)|185.199.108.133|:443... connected.\n",
            "HTTP request sent, awaiting response... 200 OK\n",
            "Length: 11325 (11K) [text/plain]\n",
            "Saving to: ‘student_debt.txt.1’\n",
            "\n",
            "\rstudent_debt.txt.1    0%[                    ]       0  --.-KB/s               \rstudent_debt.txt.1  100%[===================>]  11.06K  --.-KB/s    in 0s      \n",
            "\n",
            "2024-10-18 12:04:01 (72.1 MB/s) - ‘student_debt.txt.1’ saved [11325/11325]\n",
            "\n"
          ]
        }
      ]
    },
    {
      "cell_type": "code",
      "source": [
        "try:\n",
        "  assert (user_answer == correct_answer).all().all(), 'Ответы не совпадают'\n",
        "  assert user_answer.columns.equals(correct_answer.columns), 'Названия столбцов не совпадают'\n",
        "except Exception as err:\n",
        "  raise AssertionError(f'При проверке возникла ошибка {repr(err)}')\n",
        "else:\n",
        "  print('Поздравляем, Вы справились и успешно прошли все проверки!!')"
      ],
      "metadata": {
        "id": "gMqsbz7Wxm-G",
        "colab": {
          "base_uri": "https://localhost:8080/"
        },
        "outputId": "ae1589ab-1555-41f0-f5db-48b0d35f6f22"
      },
      "execution_count": 22,
      "outputs": [
        {
          "output_type": "stream",
          "name": "stdout",
          "text": [
            "Поздравляем, Вы справились и успешно прошли все проверки!!\n"
          ]
        }
      ]
    },
    {
      "cell_type": "code",
      "source": [],
      "metadata": {
        "id": "83kaRR2NatQT"
      },
      "execution_count": null,
      "outputs": []
    }
  ]
}